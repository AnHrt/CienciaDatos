{
 "cells": [
  {
   "cell_type": "markdown",
   "metadata": {},
   "source": [
    "### María de los Angeles Arista Huerta\n",
    "\n",
    "*Actividad:* Fase 4 - Modelación de los datos"
   ]
  },
  {
   "cell_type": "markdown",
   "metadata": {},
   "source": [
    "Cargando y explorando los datos"
   ]
  },
  {
   "cell_type": "code",
   "execution_count": 95,
   "metadata": {},
   "outputs": [],
   "source": [
    "import pandas as pd "
   ]
  },
  {
   "cell_type": "code",
   "execution_count": 96,
   "metadata": {},
   "outputs": [],
   "source": [
    "df = pd.read_csv('Datos.csv')"
   ]
  },
  {
   "cell_type": "code",
   "execution_count": 97,
   "metadata": {},
   "outputs": [
    {
     "data": {
      "text/html": [
       "<div>\n",
       "<style scoped>\n",
       "    .dataframe tbody tr th:only-of-type {\n",
       "        vertical-align: middle;\n",
       "    }\n",
       "\n",
       "    .dataframe tbody tr th {\n",
       "        vertical-align: top;\n",
       "    }\n",
       "\n",
       "    .dataframe thead th {\n",
       "        text-align: right;\n",
       "    }\n",
       "</style>\n",
       "<table border=\"1\" class=\"dataframe\">\n",
       "  <thead>\n",
       "    <tr style=\"text-align: right;\">\n",
       "      <th></th>\n",
       "      <th>Número</th>\n",
       "      <th>Fecha (dd/mm/aa)</th>\n",
       "      <th>Nombre actividad</th>\n",
       "      <th>Costo</th>\n",
       "      <th>Presupuesto</th>\n",
       "      <th>Tiempo invertido</th>\n",
       "      <th>Tipo</th>\n",
       "      <th>Momento</th>\n",
       "      <th>No. de personas</th>\n",
       "      <th>Día de deposito</th>\n",
       "      <th>Previsto 1 / Imprevisto 0</th>\n",
       "      <th>Unnamed: 11</th>\n",
       "      <th>Unnamed: 12</th>\n",
       "      <th>Unnamed: 13</th>\n",
       "      <th>Unnamed: 14</th>\n",
       "      <th>Unnamed: 15</th>\n",
       "    </tr>\n",
       "  </thead>\n",
       "  <tbody>\n",
       "    <tr>\n",
       "      <th>0</th>\n",
       "      <td>1</td>\n",
       "      <td>06/08/2023</td>\n",
       "      <td>Regreso a Queretaro</td>\n",
       "      <td>200.0</td>\n",
       "      <td>1500.0</td>\n",
       "      <td>150.0</td>\n",
       "      <td>6.0</td>\n",
       "      <td>1.0</td>\n",
       "      <td>3.0</td>\n",
       "      <td>1.0</td>\n",
       "      <td>1.0</td>\n",
       "      <td>NaN</td>\n",
       "      <td>NaN</td>\n",
       "      <td>NaN</td>\n",
       "      <td>NaN</td>\n",
       "      <td>NaN</td>\n",
       "    </tr>\n",
       "    <tr>\n",
       "      <th>1</th>\n",
       "      <td>2</td>\n",
       "      <td>06/08/2023</td>\n",
       "      <td>Super en soriana</td>\n",
       "      <td>200.0</td>\n",
       "      <td>1300.0</td>\n",
       "      <td>60.0</td>\n",
       "      <td>1.0</td>\n",
       "      <td>2.0</td>\n",
       "      <td>2.0</td>\n",
       "      <td>0.0</td>\n",
       "      <td>1.0</td>\n",
       "      <td>NaN</td>\n",
       "      <td>NaN</td>\n",
       "      <td>NaN</td>\n",
       "      <td>NaN</td>\n",
       "      <td>NaN</td>\n",
       "    </tr>\n",
       "    <tr>\n",
       "      <th>2</th>\n",
       "      <td>3</td>\n",
       "      <td>06/08/2023</td>\n",
       "      <td>Sushi con LA</td>\n",
       "      <td>115.0</td>\n",
       "      <td>1100.0</td>\n",
       "      <td>90.0</td>\n",
       "      <td>4.0</td>\n",
       "      <td>3.0</td>\n",
       "      <td>2.0</td>\n",
       "      <td>0.0</td>\n",
       "      <td>1.0</td>\n",
       "      <td>NaN</td>\n",
       "      <td>NaN</td>\n",
       "      <td>NaN</td>\n",
       "      <td>NaN</td>\n",
       "      <td>NaN</td>\n",
       "    </tr>\n",
       "    <tr>\n",
       "      <th>3</th>\n",
       "      <td>4</td>\n",
       "      <td>07/08/2023</td>\n",
       "      <td>Café Starbucks Capsula</td>\n",
       "      <td>5.0</td>\n",
       "      <td>985.0</td>\n",
       "      <td>15.0</td>\n",
       "      <td>1.0</td>\n",
       "      <td>1.0</td>\n",
       "      <td>1.0</td>\n",
       "      <td>0.0</td>\n",
       "      <td>1.0</td>\n",
       "      <td>NaN</td>\n",
       "      <td>NaN</td>\n",
       "      <td>NaN</td>\n",
       "      <td>NaN</td>\n",
       "      <td>NaN</td>\n",
       "    </tr>\n",
       "    <tr>\n",
       "      <th>4</th>\n",
       "      <td>5</td>\n",
       "      <td>07/08/2023</td>\n",
       "      <td>Pedido en linea Amazon</td>\n",
       "      <td>153.0</td>\n",
       "      <td>980.0</td>\n",
       "      <td>10.0</td>\n",
       "      <td>4.0</td>\n",
       "      <td>1.0</td>\n",
       "      <td>1.0</td>\n",
       "      <td>0.0</td>\n",
       "      <td>1.0</td>\n",
       "      <td>NaN</td>\n",
       "      <td>NaN</td>\n",
       "      <td>NaN</td>\n",
       "      <td>NaN</td>\n",
       "      <td>NaN</td>\n",
       "    </tr>\n",
       "  </tbody>\n",
       "</table>\n",
       "</div>"
      ],
      "text/plain": [
       "   Número Fecha (dd/mm/aa)        Nombre actividad  Costo  Presupuesto  \\\n",
       "0       1       06/08/2023     Regreso a Queretaro  200.0       1500.0   \n",
       "1       2       06/08/2023        Super en soriana  200.0       1300.0   \n",
       "2       3       06/08/2023            Sushi con LA  115.0       1100.0   \n",
       "3       4       07/08/2023  Café Starbucks Capsula    5.0        985.0   \n",
       "4       5       07/08/2023  Pedido en linea Amazon  153.0        980.0   \n",
       "\n",
       "   Tiempo invertido  Tipo  Momento  No. de personas  Día de deposito  \\\n",
       "0             150.0   6.0      1.0              3.0              1.0   \n",
       "1              60.0   1.0      2.0              2.0              0.0   \n",
       "2              90.0   4.0      3.0              2.0              0.0   \n",
       "3              15.0   1.0      1.0              1.0              0.0   \n",
       "4              10.0   4.0      1.0              1.0              0.0   \n",
       "\n",
       "   Previsto 1 / Imprevisto 0  Unnamed: 11  Unnamed: 12  Unnamed: 13  \\\n",
       "0                        1.0          NaN          NaN          NaN   \n",
       "1                        1.0          NaN          NaN          NaN   \n",
       "2                        1.0          NaN          NaN          NaN   \n",
       "3                        1.0          NaN          NaN          NaN   \n",
       "4                        1.0          NaN          NaN          NaN   \n",
       "\n",
       "   Unnamed: 14  Unnamed: 15  \n",
       "0          NaN          NaN  \n",
       "1          NaN          NaN  \n",
       "2          NaN          NaN  \n",
       "3          NaN          NaN  \n",
       "4          NaN          NaN  "
      ]
     },
     "execution_count": 97,
     "metadata": {},
     "output_type": "execute_result"
    }
   ],
   "source": [
    "df.head()"
   ]
  },
  {
   "cell_type": "markdown",
   "metadata": {},
   "source": [
    "Seleccionando los datos"
   ]
  },
  {
   "cell_type": "code",
   "execution_count": 98,
   "metadata": {},
   "outputs": [],
   "source": [
    "df = df.iloc[:,3:11]"
   ]
  },
  {
   "cell_type": "code",
   "execution_count": 99,
   "metadata": {},
   "outputs": [
    {
     "data": {
      "text/html": [
       "<div>\n",
       "<style scoped>\n",
       "    .dataframe tbody tr th:only-of-type {\n",
       "        vertical-align: middle;\n",
       "    }\n",
       "\n",
       "    .dataframe tbody tr th {\n",
       "        vertical-align: top;\n",
       "    }\n",
       "\n",
       "    .dataframe thead th {\n",
       "        text-align: right;\n",
       "    }\n",
       "</style>\n",
       "<table border=\"1\" class=\"dataframe\">\n",
       "  <thead>\n",
       "    <tr style=\"text-align: right;\">\n",
       "      <th></th>\n",
       "      <th>Costo</th>\n",
       "      <th>Presupuesto</th>\n",
       "      <th>Tiempo invertido</th>\n",
       "      <th>Tipo</th>\n",
       "      <th>Momento</th>\n",
       "      <th>No. de personas</th>\n",
       "      <th>Día de deposito</th>\n",
       "      <th>Previsto 1 / Imprevisto 0</th>\n",
       "    </tr>\n",
       "  </thead>\n",
       "  <tbody>\n",
       "    <tr>\n",
       "      <th>0</th>\n",
       "      <td>200.0</td>\n",
       "      <td>1500.0</td>\n",
       "      <td>150.0</td>\n",
       "      <td>6.0</td>\n",
       "      <td>1.0</td>\n",
       "      <td>3.0</td>\n",
       "      <td>1.0</td>\n",
       "      <td>1.0</td>\n",
       "    </tr>\n",
       "    <tr>\n",
       "      <th>1</th>\n",
       "      <td>200.0</td>\n",
       "      <td>1300.0</td>\n",
       "      <td>60.0</td>\n",
       "      <td>1.0</td>\n",
       "      <td>2.0</td>\n",
       "      <td>2.0</td>\n",
       "      <td>0.0</td>\n",
       "      <td>1.0</td>\n",
       "    </tr>\n",
       "    <tr>\n",
       "      <th>2</th>\n",
       "      <td>115.0</td>\n",
       "      <td>1100.0</td>\n",
       "      <td>90.0</td>\n",
       "      <td>4.0</td>\n",
       "      <td>3.0</td>\n",
       "      <td>2.0</td>\n",
       "      <td>0.0</td>\n",
       "      <td>1.0</td>\n",
       "    </tr>\n",
       "    <tr>\n",
       "      <th>3</th>\n",
       "      <td>5.0</td>\n",
       "      <td>985.0</td>\n",
       "      <td>15.0</td>\n",
       "      <td>1.0</td>\n",
       "      <td>1.0</td>\n",
       "      <td>1.0</td>\n",
       "      <td>0.0</td>\n",
       "      <td>1.0</td>\n",
       "    </tr>\n",
       "    <tr>\n",
       "      <th>4</th>\n",
       "      <td>153.0</td>\n",
       "      <td>980.0</td>\n",
       "      <td>10.0</td>\n",
       "      <td>4.0</td>\n",
       "      <td>1.0</td>\n",
       "      <td>1.0</td>\n",
       "      <td>0.0</td>\n",
       "      <td>1.0</td>\n",
       "    </tr>\n",
       "  </tbody>\n",
       "</table>\n",
       "</div>"
      ],
      "text/plain": [
       "   Costo  Presupuesto  Tiempo invertido  Tipo  Momento  No. de personas  \\\n",
       "0  200.0       1500.0             150.0   6.0      1.0              3.0   \n",
       "1  200.0       1300.0              60.0   1.0      2.0              2.0   \n",
       "2  115.0       1100.0              90.0   4.0      3.0              2.0   \n",
       "3    5.0        985.0              15.0   1.0      1.0              1.0   \n",
       "4  153.0        980.0              10.0   4.0      1.0              1.0   \n",
       "\n",
       "   Día de deposito  Previsto 1 / Imprevisto 0  \n",
       "0              1.0                        1.0  \n",
       "1              0.0                        1.0  \n",
       "2              0.0                        1.0  \n",
       "3              0.0                        1.0  \n",
       "4              0.0                        1.0  "
      ]
     },
     "execution_count": 99,
     "metadata": {},
     "output_type": "execute_result"
    }
   ],
   "source": [
    "df.head()"
   ]
  },
  {
   "cell_type": "code",
   "execution_count": 100,
   "metadata": {},
   "outputs": [
    {
     "name": "stdout",
     "output_type": "stream",
     "text": [
      "<class 'pandas.core.frame.DataFrame'>\n",
      "RangeIndex: 300 entries, 0 to 299\n",
      "Data columns (total 8 columns):\n",
      " #   Column                     Non-Null Count  Dtype  \n",
      "---  ------                     --------------  -----  \n",
      " 0   Costo                      292 non-null    float64\n",
      " 1   Presupuesto                294 non-null    float64\n",
      " 2   Tiempo invertido           294 non-null    float64\n",
      " 3   Tipo                       294 non-null    float64\n",
      " 4   Momento                    294 non-null    float64\n",
      " 5   No. de personas            294 non-null    float64\n",
      " 6   Día de deposito            294 non-null    float64\n",
      " 7   Previsto 1 / Imprevisto 0  294 non-null    float64\n",
      "dtypes: float64(8)\n",
      "memory usage: 18.9 KB\n"
     ]
    }
   ],
   "source": [
    "df.info()"
   ]
  },
  {
   "cell_type": "markdown",
   "metadata": {},
   "source": [
    "Limpiando los datos"
   ]
  },
  {
   "cell_type": "code",
   "execution_count": 101,
   "metadata": {},
   "outputs": [
    {
     "data": {
      "text/plain": [
       "Costo                        8\n",
       "Presupuesto                  6\n",
       "Tiempo invertido             6\n",
       "Tipo                         6\n",
       "Momento                      6\n",
       "No. de personas              6\n",
       "Día de deposito              6\n",
       "Previsto 1 / Imprevisto 0    6\n",
       "dtype: int64"
      ]
     },
     "execution_count": 101,
     "metadata": {},
     "output_type": "execute_result"
    }
   ],
   "source": [
    "df.isnull().sum() "
   ]
  },
  {
   "cell_type": "code",
   "execution_count": 102,
   "metadata": {},
   "outputs": [],
   "source": [
    "df= df.dropna()"
   ]
  },
  {
   "cell_type": "code",
   "execution_count": 103,
   "metadata": {},
   "outputs": [
    {
     "data": {
      "text/plain": [
       "False"
      ]
     },
     "execution_count": 103,
     "metadata": {},
     "output_type": "execute_result"
    }
   ],
   "source": [
    "df.isnull().values.any()"
   ]
  },
  {
   "cell_type": "markdown",
   "metadata": {},
   "source": [
    "Preparando los datos"
   ]
  },
  {
   "cell_type": "code",
   "execution_count": 104,
   "metadata": {},
   "outputs": [
    {
     "data": {
      "text/plain": [
       "Index(['Costo', 'Presupuesto', 'Tiempo invertido', 'Tipo', 'Momento',\n",
       "       'No. de personas', 'Día de deposito', 'Previsto 1 / Imprevisto 0'],\n",
       "      dtype='object')"
      ]
     },
     "execution_count": 104,
     "metadata": {},
     "output_type": "execute_result"
    }
   ],
   "source": [
    "df.columns"
   ]
  },
  {
   "cell_type": "code",
   "execution_count": 105,
   "metadata": {},
   "outputs": [],
   "source": [
    "x = df[['Presupuesto', 'Tiempo invertido', 'Tipo', 'Momento', 'No. de personas', 'Día de deposito', 'Previsto 1 / Imprevisto 0']].values # variables independientes\n",
    "y = df['Costo'].values # variable dependiente"
   ]
  },
  {
   "cell_type": "code",
   "execution_count": 106,
   "metadata": {},
   "outputs": [],
   "source": [
    "from sklearn.model_selection import train_test_split"
   ]
  },
  {
   "cell_type": "code",
   "execution_count": 107,
   "metadata": {},
   "outputs": [],
   "source": [
    "x_train, x_test, y_train, y_test = train_test_split(x, y, test_size=0.2, random_state=0)"
   ]
  },
  {
   "cell_type": "code",
   "execution_count": 108,
   "metadata": {},
   "outputs": [
    {
     "data": {
      "text/plain": [
       "array([350. , 156. ,  70. , 150. ,  18. ,   5.5, 240. , 200. ,  20. ,\n",
       "        40. ,   5. ,   5.5, 100. ,   5. ,  75. ,   5. ,  28. ,   5. ,\n",
       "         5. , 300. , 200. , 200. ,  85. ,  20. ,   5. ,  40. , 200. ,\n",
       "        40. , 200. ,  13. ,  25. , 500. ,   5. ,  40. , 400. ,  50. ,\n",
       "         5. ,   5. , 150. ,   5. ,  40. ,  25. ,  71. ,   5. ,  40. ,\n",
       "         5. , 200. , 100. , 200. ,  85. ,   5. , 110. ,  85. ,  79. ,\n",
       "         5.5,   5.5,  13. ,  40. ,   5. ])"
      ]
     },
     "execution_count": 108,
     "metadata": {},
     "output_type": "execute_result"
    }
   ],
   "source": [
    "y_test"
   ]
  },
  {
   "cell_type": "markdown",
   "metadata": {},
   "source": [
    "Modelando los datos"
   ]
  },
  {
   "cell_type": "code",
   "execution_count": 109,
   "metadata": {},
   "outputs": [],
   "source": [
    "from sklearn.linear_model import LinearRegression\n",
    "model_regression = LinearRegression()"
   ]
  },
  {
   "cell_type": "code",
   "execution_count": 110,
   "metadata": {},
   "outputs": [
    {
     "data": {
      "text/html": [
       "<style>#sk-container-id-5 {color: black;background-color: white;}#sk-container-id-5 pre{padding: 0;}#sk-container-id-5 div.sk-toggleable {background-color: white;}#sk-container-id-5 label.sk-toggleable__label {cursor: pointer;display: block;width: 100%;margin-bottom: 0;padding: 0.3em;box-sizing: border-box;text-align: center;}#sk-container-id-5 label.sk-toggleable__label-arrow:before {content: \"▸\";float: left;margin-right: 0.25em;color: #696969;}#sk-container-id-5 label.sk-toggleable__label-arrow:hover:before {color: black;}#sk-container-id-5 div.sk-estimator:hover label.sk-toggleable__label-arrow:before {color: black;}#sk-container-id-5 div.sk-toggleable__content {max-height: 0;max-width: 0;overflow: hidden;text-align: left;background-color: #f0f8ff;}#sk-container-id-5 div.sk-toggleable__content pre {margin: 0.2em;color: black;border-radius: 0.25em;background-color: #f0f8ff;}#sk-container-id-5 input.sk-toggleable__control:checked~div.sk-toggleable__content {max-height: 200px;max-width: 100%;overflow: auto;}#sk-container-id-5 input.sk-toggleable__control:checked~label.sk-toggleable__label-arrow:before {content: \"▾\";}#sk-container-id-5 div.sk-estimator input.sk-toggleable__control:checked~label.sk-toggleable__label {background-color: #d4ebff;}#sk-container-id-5 div.sk-label input.sk-toggleable__control:checked~label.sk-toggleable__label {background-color: #d4ebff;}#sk-container-id-5 input.sk-hidden--visually {border: 0;clip: rect(1px 1px 1px 1px);clip: rect(1px, 1px, 1px, 1px);height: 1px;margin: -1px;overflow: hidden;padding: 0;position: absolute;width: 1px;}#sk-container-id-5 div.sk-estimator {font-family: monospace;background-color: #f0f8ff;border: 1px dotted black;border-radius: 0.25em;box-sizing: border-box;margin-bottom: 0.5em;}#sk-container-id-5 div.sk-estimator:hover {background-color: #d4ebff;}#sk-container-id-5 div.sk-parallel-item::after {content: \"\";width: 100%;border-bottom: 1px solid gray;flex-grow: 1;}#sk-container-id-5 div.sk-label:hover label.sk-toggleable__label {background-color: #d4ebff;}#sk-container-id-5 div.sk-serial::before {content: \"\";position: absolute;border-left: 1px solid gray;box-sizing: border-box;top: 0;bottom: 0;left: 50%;z-index: 0;}#sk-container-id-5 div.sk-serial {display: flex;flex-direction: column;align-items: center;background-color: white;padding-right: 0.2em;padding-left: 0.2em;position: relative;}#sk-container-id-5 div.sk-item {position: relative;z-index: 1;}#sk-container-id-5 div.sk-parallel {display: flex;align-items: stretch;justify-content: center;background-color: white;position: relative;}#sk-container-id-5 div.sk-item::before, #sk-container-id-5 div.sk-parallel-item::before {content: \"\";position: absolute;border-left: 1px solid gray;box-sizing: border-box;top: 0;bottom: 0;left: 50%;z-index: -1;}#sk-container-id-5 div.sk-parallel-item {display: flex;flex-direction: column;z-index: 1;position: relative;background-color: white;}#sk-container-id-5 div.sk-parallel-item:first-child::after {align-self: flex-end;width: 50%;}#sk-container-id-5 div.sk-parallel-item:last-child::after {align-self: flex-start;width: 50%;}#sk-container-id-5 div.sk-parallel-item:only-child::after {width: 0;}#sk-container-id-5 div.sk-dashed-wrapped {border: 1px dashed gray;margin: 0 0.4em 0.5em 0.4em;box-sizing: border-box;padding-bottom: 0.4em;background-color: white;}#sk-container-id-5 div.sk-label label {font-family: monospace;font-weight: bold;display: inline-block;line-height: 1.2em;}#sk-container-id-5 div.sk-label-container {text-align: center;}#sk-container-id-5 div.sk-container {/* jupyter's `normalize.less` sets `[hidden] { display: none; }` but bootstrap.min.css set `[hidden] { display: none !important; }` so we also need the `!important` here to be able to override the default hidden behavior on the sphinx rendered scikit-learn.org. See: https://github.com/scikit-learn/scikit-learn/issues/21755 */display: inline-block !important;position: relative;}#sk-container-id-5 div.sk-text-repr-fallback {display: none;}</style><div id=\"sk-container-id-5\" class=\"sk-top-container\"><div class=\"sk-text-repr-fallback\"><pre>LinearRegression()</pre><b>In a Jupyter environment, please rerun this cell to show the HTML representation or trust the notebook. <br />On GitHub, the HTML representation is unable to render, please try loading this page with nbviewer.org.</b></div><div class=\"sk-container\" hidden><div class=\"sk-item\"><div class=\"sk-estimator sk-toggleable\"><input class=\"sk-toggleable__control sk-hidden--visually\" id=\"sk-estimator-id-5\" type=\"checkbox\" checked><label for=\"sk-estimator-id-5\" class=\"sk-toggleable__label sk-toggleable__label-arrow\">LinearRegression</label><div class=\"sk-toggleable__content\"><pre>LinearRegression()</pre></div></div></div></div></div>"
      ],
      "text/plain": [
       "LinearRegression()"
      ]
     },
     "execution_count": 110,
     "metadata": {},
     "output_type": "execute_result"
    }
   ],
   "source": [
    "model_regression.fit(x_train, y_train) # aprendizaje automático con base en nuestros datos"
   ]
  },
  {
   "cell_type": "code",
   "execution_count": 111,
   "metadata": {},
   "outputs": [],
   "source": [
    "x_labels = ['Presupuesto', 'Tiempo invertido', 'Tipo', 'Momento', 'No. de personas', 'Día de deposito', 'Previsto 1 / Imprevisto 0']\n",
    "c_label = ['Coeficientes']"
   ]
  },
  {
   "cell_type": "code",
   "execution_count": 112,
   "metadata": {},
   "outputs": [
    {
     "data": {
      "text/html": [
       "<div>\n",
       "<style scoped>\n",
       "    .dataframe tbody tr th:only-of-type {\n",
       "        vertical-align: middle;\n",
       "    }\n",
       "\n",
       "    .dataframe tbody tr th {\n",
       "        vertical-align: top;\n",
       "    }\n",
       "\n",
       "    .dataframe thead th {\n",
       "        text-align: right;\n",
       "    }\n",
       "</style>\n",
       "<table border=\"1\" class=\"dataframe\">\n",
       "  <thead>\n",
       "    <tr style=\"text-align: right;\">\n",
       "      <th></th>\n",
       "      <th>Coeficientes</th>\n",
       "    </tr>\n",
       "  </thead>\n",
       "  <tbody>\n",
       "    <tr>\n",
       "      <th>Presupuesto</th>\n",
       "      <td>0.144499</td>\n",
       "    </tr>\n",
       "    <tr>\n",
       "      <th>Tiempo invertido</th>\n",
       "      <td>0.107329</td>\n",
       "    </tr>\n",
       "    <tr>\n",
       "      <th>Tipo</th>\n",
       "      <td>29.718972</td>\n",
       "    </tr>\n",
       "    <tr>\n",
       "      <th>Momento</th>\n",
       "      <td>46.417458</td>\n",
       "    </tr>\n",
       "    <tr>\n",
       "      <th>No. de personas</th>\n",
       "      <td>-13.162439</td>\n",
       "    </tr>\n",
       "    <tr>\n",
       "      <th>Día de deposito</th>\n",
       "      <td>239.160169</td>\n",
       "    </tr>\n",
       "    <tr>\n",
       "      <th>Previsto 1 / Imprevisto 0</th>\n",
       "      <td>6.839978</td>\n",
       "    </tr>\n",
       "  </tbody>\n",
       "</table>\n",
       "</div>"
      ],
      "text/plain": [
       "                           Coeficientes\n",
       "Presupuesto                    0.144499\n",
       "Tiempo invertido               0.107329\n",
       "Tipo                          29.718972\n",
       "Momento                       46.417458\n",
       "No. de personas              -13.162439\n",
       "Día de deposito              239.160169\n",
       "Previsto 1 / Imprevisto 0      6.839978"
      ]
     },
     "execution_count": 112,
     "metadata": {},
     "output_type": "execute_result"
    }
   ],
   "source": [
    "coeff_df = pd.DataFrame(model_regression.coef_, x_labels, c_label)\n",
    "coeff_df"
   ]
  },
  {
   "cell_type": "code",
   "execution_count": 113,
   "metadata": {},
   "outputs": [],
   "source": [
    "y_pred = model_regression.predict(x_test) # realiza la predicción con el modelo generado"
   ]
  },
  {
   "cell_type": "code",
   "execution_count": 114,
   "metadata": {},
   "outputs": [
    {
     "data": {
      "text/html": [
       "<div>\n",
       "<style scoped>\n",
       "    .dataframe tbody tr th:only-of-type {\n",
       "        vertical-align: middle;\n",
       "    }\n",
       "\n",
       "    .dataframe tbody tr th {\n",
       "        vertical-align: top;\n",
       "    }\n",
       "\n",
       "    .dataframe thead th {\n",
       "        text-align: right;\n",
       "    }\n",
       "</style>\n",
       "<table border=\"1\" class=\"dataframe\">\n",
       "  <thead>\n",
       "    <tr style=\"text-align: right;\">\n",
       "      <th></th>\n",
       "      <th>Real</th>\n",
       "      <th>Predicción</th>\n",
       "      <th>Residual</th>\n",
       "    </tr>\n",
       "  </thead>\n",
       "  <tbody>\n",
       "    <tr>\n",
       "      <th>58</th>\n",
       "      <td>5.0</td>\n",
       "      <td>78.160472</td>\n",
       "      <td>-73.160472</td>\n",
       "    </tr>\n",
       "    <tr>\n",
       "      <th>39</th>\n",
       "      <td>5.0</td>\n",
       "      <td>32.354430</td>\n",
       "      <td>-27.354430</td>\n",
       "    </tr>\n",
       "    <tr>\n",
       "      <th>15</th>\n",
       "      <td>5.0</td>\n",
       "      <td>-23.277515</td>\n",
       "      <td>28.277515</td>\n",
       "    </tr>\n",
       "    <tr>\n",
       "      <th>36</th>\n",
       "      <td>5.0</td>\n",
       "      <td>20.505548</td>\n",
       "      <td>-15.505548</td>\n",
       "    </tr>\n",
       "    <tr>\n",
       "      <th>13</th>\n",
       "      <td>5.0</td>\n",
       "      <td>25.851995</td>\n",
       "      <td>-20.851995</td>\n",
       "    </tr>\n",
       "    <tr>\n",
       "      <th>50</th>\n",
       "      <td>5.0</td>\n",
       "      <td>90.876345</td>\n",
       "      <td>-85.876345</td>\n",
       "    </tr>\n",
       "    <tr>\n",
       "      <th>10</th>\n",
       "      <td>5.0</td>\n",
       "      <td>67.901075</td>\n",
       "      <td>-62.901075</td>\n",
       "    </tr>\n",
       "    <tr>\n",
       "      <th>11</th>\n",
       "      <td>5.5</td>\n",
       "      <td>-48.709261</td>\n",
       "      <td>54.209261</td>\n",
       "    </tr>\n",
       "    <tr>\n",
       "      <th>4</th>\n",
       "      <td>18.0</td>\n",
       "      <td>191.900441</td>\n",
       "      <td>-173.900441</td>\n",
       "    </tr>\n",
       "    <tr>\n",
       "      <th>23</th>\n",
       "      <td>20.0</td>\n",
       "      <td>-24.003076</td>\n",
       "      <td>44.003076</td>\n",
       "    </tr>\n",
       "    <tr>\n",
       "      <th>8</th>\n",
       "      <td>20.0</td>\n",
       "      <td>124.974936</td>\n",
       "      <td>-104.974936</td>\n",
       "    </tr>\n",
       "    <tr>\n",
       "      <th>30</th>\n",
       "      <td>25.0</td>\n",
       "      <td>9.639961</td>\n",
       "      <td>15.360039</td>\n",
       "    </tr>\n",
       "    <tr>\n",
       "      <th>41</th>\n",
       "      <td>25.0</td>\n",
       "      <td>98.993946</td>\n",
       "      <td>-73.993946</td>\n",
       "    </tr>\n",
       "    <tr>\n",
       "      <th>16</th>\n",
       "      <td>28.0</td>\n",
       "      <td>48.138922</td>\n",
       "      <td>-20.138922</td>\n",
       "    </tr>\n",
       "    <tr>\n",
       "      <th>44</th>\n",
       "      <td>40.0</td>\n",
       "      <td>10.630268</td>\n",
       "      <td>29.369732</td>\n",
       "    </tr>\n",
       "    <tr>\n",
       "      <th>33</th>\n",
       "      <td>40.0</td>\n",
       "      <td>69.766918</td>\n",
       "      <td>-29.766918</td>\n",
       "    </tr>\n",
       "    <tr>\n",
       "      <th>27</th>\n",
       "      <td>40.0</td>\n",
       "      <td>115.645210</td>\n",
       "      <td>-75.645210</td>\n",
       "    </tr>\n",
       "    <tr>\n",
       "      <th>40</th>\n",
       "      <td>40.0</td>\n",
       "      <td>-6.672819</td>\n",
       "      <td>46.672819</td>\n",
       "    </tr>\n",
       "    <tr>\n",
       "      <th>35</th>\n",
       "      <td>50.0</td>\n",
       "      <td>160.332984</td>\n",
       "      <td>-110.332984</td>\n",
       "    </tr>\n",
       "    <tr>\n",
       "      <th>2</th>\n",
       "      <td>70.0</td>\n",
       "      <td>88.914730</td>\n",
       "      <td>-18.914730</td>\n",
       "    </tr>\n",
       "    <tr>\n",
       "      <th>42</th>\n",
       "      <td>71.0</td>\n",
       "      <td>28.454946</td>\n",
       "      <td>42.545054</td>\n",
       "    </tr>\n",
       "    <tr>\n",
       "      <th>49</th>\n",
       "      <td>85.0</td>\n",
       "      <td>96.738003</td>\n",
       "      <td>-11.738003</td>\n",
       "    </tr>\n",
       "    <tr>\n",
       "      <th>51</th>\n",
       "      <td>110.0</td>\n",
       "      <td>161.482152</td>\n",
       "      <td>-51.482152</td>\n",
       "    </tr>\n",
       "    <tr>\n",
       "      <th>38</th>\n",
       "      <td>150.0</td>\n",
       "      <td>205.228468</td>\n",
       "      <td>-55.228468</td>\n",
       "    </tr>\n",
       "    <tr>\n",
       "      <th>3</th>\n",
       "      <td>150.0</td>\n",
       "      <td>240.486116</td>\n",
       "      <td>-90.486116</td>\n",
       "    </tr>\n",
       "    <tr>\n",
       "      <th>46</th>\n",
       "      <td>200.0</td>\n",
       "      <td>173.983358</td>\n",
       "      <td>26.016642</td>\n",
       "    </tr>\n",
       "    <tr>\n",
       "      <th>19</th>\n",
       "      <td>300.0</td>\n",
       "      <td>304.410557</td>\n",
       "      <td>-4.410557</td>\n",
       "    </tr>\n",
       "    <tr>\n",
       "      <th>0</th>\n",
       "      <td>350.0</td>\n",
       "      <td>482.432779</td>\n",
       "      <td>-132.432779</td>\n",
       "    </tr>\n",
       "    <tr>\n",
       "      <th>34</th>\n",
       "      <td>400.0</td>\n",
       "      <td>118.786788</td>\n",
       "      <td>281.213212</td>\n",
       "    </tr>\n",
       "    <tr>\n",
       "      <th>31</th>\n",
       "      <td>500.0</td>\n",
       "      <td>628.495415</td>\n",
       "      <td>-128.495415</td>\n",
       "    </tr>\n",
       "  </tbody>\n",
       "</table>\n",
       "</div>"
      ],
      "text/plain": [
       "     Real  Predicción    Residual\n",
       "58    5.0   78.160472  -73.160472\n",
       "39    5.0   32.354430  -27.354430\n",
       "15    5.0  -23.277515   28.277515\n",
       "36    5.0   20.505548  -15.505548\n",
       "13    5.0   25.851995  -20.851995\n",
       "50    5.0   90.876345  -85.876345\n",
       "10    5.0   67.901075  -62.901075\n",
       "11    5.5  -48.709261   54.209261\n",
       "4    18.0  191.900441 -173.900441\n",
       "23   20.0  -24.003076   44.003076\n",
       "8    20.0  124.974936 -104.974936\n",
       "30   25.0    9.639961   15.360039\n",
       "41   25.0   98.993946  -73.993946\n",
       "16   28.0   48.138922  -20.138922\n",
       "44   40.0   10.630268   29.369732\n",
       "33   40.0   69.766918  -29.766918\n",
       "27   40.0  115.645210  -75.645210\n",
       "40   40.0   -6.672819   46.672819\n",
       "35   50.0  160.332984 -110.332984\n",
       "2    70.0   88.914730  -18.914730\n",
       "42   71.0   28.454946   42.545054\n",
       "49   85.0   96.738003  -11.738003\n",
       "51  110.0  161.482152  -51.482152\n",
       "38  150.0  205.228468  -55.228468\n",
       "3   150.0  240.486116  -90.486116\n",
       "46  200.0  173.983358   26.016642\n",
       "19  300.0  304.410557   -4.410557\n",
       "0   350.0  482.432779 -132.432779\n",
       "34  400.0  118.786788  281.213212\n",
       "31  500.0  628.495415 -128.495415"
      ]
     },
     "execution_count": 114,
     "metadata": {},
     "output_type": "execute_result"
    }
   ],
   "source": [
    "residuals = pd.DataFrame({'Real': y_test, 'Predicción': y_pred, 'Residual': y_test - y_pred})\n",
    "residuals = residuals.sample(n = 30)\n",
    "residuals = residuals.sort_values(by='Real')\n",
    "residuals"
   ]
  },
  {
   "cell_type": "code",
   "execution_count": 115,
   "metadata": {},
   "outputs": [
    {
     "data": {
      "text/plain": [
       "0.021396608635489645"
      ]
     },
     "execution_count": 115,
     "metadata": {},
     "output_type": "execute_result"
    }
   ],
   "source": [
    "from sklearn.metrics import r2_score\n",
    "r2_score(y_test, y_pred)"
   ]
  },
  {
   "cell_type": "markdown",
   "metadata": {},
   "source": [
    "Visualización de los datos"
   ]
  },
  {
   "cell_type": "code",
   "execution_count": 116,
   "metadata": {},
   "outputs": [
    {
     "data": {
      "image/png": "[encoded data removed]",
      "text/plain": [
       "<Figure size 640x480 with 1 Axes>"
      ]
     },
     "metadata": {},
     "output_type": "display_data"
    }
   ],
   "source": [
    "import matplotlib.pyplot as plt # importamos la librería pyplot que nos permitirá graficar\n",
    "import numpy as np # importamos la librería numpy que nos permitirá crear un arreglo para la muestra de 30 datos\n",
    "\n",
    "# función mágica para desplegar el gráfico en nuestra libreta\n",
    "%matplotlib inline\n",
    "\n",
    "plt.scatter(np.arange(30), residuals['Real'], label = \"Real\")  # creamos el gráfico con la muestra de datos reales\n",
    "plt.scatter(np.arange(30), residuals['Predicción'], label = \"Predicción\")  # creamos el gráfico con la muestra de datos de predicción\n",
    "plt.title(\"Comparación de costos: Reales y Predicción\") # indicamos el título del gráfico\n",
    "plt.xlabel(\"30 observaciones de costos\") # indicamos la etiqueta del eje de las x\n",
    "plt.ylabel(\"Costos\") # indicamos la etiqueta del eje de las y\n",
    "plt.legend(loc='upper left') # indicamos la posición de la etiqueta de los datos\n",
    "plt.show() # desplegamos el gráfico"
   ]
  }
 ],
 "metadata": {
  "kernelspec": {
   "display_name": "Python 3",
   "language": "python",
   "name": "python3"
  },
  "language_info": {
   "codemirror_mode": {
    "name": "ipython",
    "version": 3
   },
   "file_extension": ".py",
   "mimetype": "text/x-python",
   "name": "python",
   "nbconvert_exporter": "python",
   "pygments_lexer": "ipython3",
   "version": "3.10.11"
  }
 },
 "nbformat": 4,
 "nbformat_minor": 2
}
