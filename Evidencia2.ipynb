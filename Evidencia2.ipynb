{
 "cells": [
  {
   "cell_type": "markdown",
   "metadata": {},
   "source": [
    "### María de los Angeles Arista Huerta\n",
    "\n",
    "*Actividad:* Evidencia 2. Proyecto de ciencia de datos."
   ]
  },
  {
   "cell_type": "markdown",
   "metadata": {},
   "source": [
    "Cargando y explorando los datos"
   ]
  },
  {
   "cell_type": "code",
   "execution_count": 125,
   "metadata": {},
   "outputs": [],
   "source": [
    "import pandas as pd "
   ]
  },
  {
   "cell_type": "code",
   "execution_count": 126,
   "metadata": {},
   "outputs": [],
   "source": [
    "df = pd.read_csv('Datos.csv')"
   ]
  },
  {
   "cell_type": "code",
   "execution_count": 127,
   "metadata": {},
   "outputs": [
    {
     "data": {
      "text/html": [
       "<div>\n",
       "<style scoped>\n",
       "    .dataframe tbody tr th:only-of-type {\n",
       "        vertical-align: middle;\n",
       "    }\n",
       "\n",
       "    .dataframe tbody tr th {\n",
       "        vertical-align: top;\n",
       "    }\n",
       "\n",
       "    .dataframe thead th {\n",
       "        text-align: right;\n",
       "    }\n",
       "</style>\n",
       "<table border=\"1\" class=\"dataframe\">\n",
       "  <thead>\n",
       "    <tr style=\"text-align: right;\">\n",
       "      <th></th>\n",
       "      <th>Número</th>\n",
       "      <th>Fecha (dd/mm/aa)</th>\n",
       "      <th>Nombre actividad</th>\n",
       "      <th>Costo</th>\n",
       "      <th>Presupuesto</th>\n",
       "      <th>Tiempo invertido</th>\n",
       "      <th>Tipo</th>\n",
       "      <th>Momento</th>\n",
       "      <th>No. de personas</th>\n",
       "      <th>Día de deposito</th>\n",
       "      <th>Previsto 1 / Imprevisto 0</th>\n",
       "      <th>Unnamed: 11</th>\n",
       "      <th>Unnamed: 12</th>\n",
       "      <th>Unnamed: 13</th>\n",
       "      <th>Unnamed: 14</th>\n",
       "      <th>Unnamed: 15</th>\n",
       "    </tr>\n",
       "  </thead>\n",
       "  <tbody>\n",
       "    <tr>\n",
       "      <th>0</th>\n",
       "      <td>1</td>\n",
       "      <td>06/08/2023</td>\n",
       "      <td>Regreso a Queretaro</td>\n",
       "      <td>200.0</td>\n",
       "      <td>1500.0</td>\n",
       "      <td>150</td>\n",
       "      <td>6</td>\n",
       "      <td>1</td>\n",
       "      <td>3</td>\n",
       "      <td>1</td>\n",
       "      <td>1</td>\n",
       "      <td>NaN</td>\n",
       "      <td>NaN</td>\n",
       "      <td>NaN</td>\n",
       "      <td>NaN</td>\n",
       "      <td>NaN</td>\n",
       "    </tr>\n",
       "    <tr>\n",
       "      <th>1</th>\n",
       "      <td>2</td>\n",
       "      <td>06/08/2023</td>\n",
       "      <td>Super en soriana</td>\n",
       "      <td>200.0</td>\n",
       "      <td>1300.0</td>\n",
       "      <td>60</td>\n",
       "      <td>1</td>\n",
       "      <td>2</td>\n",
       "      <td>2</td>\n",
       "      <td>0</td>\n",
       "      <td>1</td>\n",
       "      <td>NaN</td>\n",
       "      <td>NaN</td>\n",
       "      <td>NaN</td>\n",
       "      <td>NaN</td>\n",
       "      <td>NaN</td>\n",
       "    </tr>\n",
       "    <tr>\n",
       "      <th>2</th>\n",
       "      <td>3</td>\n",
       "      <td>06/08/2023</td>\n",
       "      <td>Sushi con LA</td>\n",
       "      <td>115.0</td>\n",
       "      <td>1100.0</td>\n",
       "      <td>90</td>\n",
       "      <td>4</td>\n",
       "      <td>3</td>\n",
       "      <td>2</td>\n",
       "      <td>0</td>\n",
       "      <td>1</td>\n",
       "      <td>NaN</td>\n",
       "      <td>NaN</td>\n",
       "      <td>NaN</td>\n",
       "      <td>NaN</td>\n",
       "      <td>NaN</td>\n",
       "    </tr>\n",
       "    <tr>\n",
       "      <th>3</th>\n",
       "      <td>4</td>\n",
       "      <td>07/08/2023</td>\n",
       "      <td>Café Starbucks Capsula</td>\n",
       "      <td>5.0</td>\n",
       "      <td>985.0</td>\n",
       "      <td>15</td>\n",
       "      <td>1</td>\n",
       "      <td>1</td>\n",
       "      <td>1</td>\n",
       "      <td>0</td>\n",
       "      <td>1</td>\n",
       "      <td>NaN</td>\n",
       "      <td>NaN</td>\n",
       "      <td>NaN</td>\n",
       "      <td>NaN</td>\n",
       "      <td>NaN</td>\n",
       "    </tr>\n",
       "    <tr>\n",
       "      <th>4</th>\n",
       "      <td>5</td>\n",
       "      <td>07/08/2023</td>\n",
       "      <td>Pedido en linea Amazon</td>\n",
       "      <td>153.0</td>\n",
       "      <td>980.0</td>\n",
       "      <td>10</td>\n",
       "      <td>4</td>\n",
       "      <td>1</td>\n",
       "      <td>1</td>\n",
       "      <td>0</td>\n",
       "      <td>1</td>\n",
       "      <td>NaN</td>\n",
       "      <td>NaN</td>\n",
       "      <td>NaN</td>\n",
       "      <td>NaN</td>\n",
       "      <td>NaN</td>\n",
       "    </tr>\n",
       "  </tbody>\n",
       "</table>\n",
       "</div>"
      ],
      "text/plain": [
       "   Número Fecha (dd/mm/aa)        Nombre actividad  Costo  Presupuesto  \\\n",
       "0       1       06/08/2023     Regreso a Queretaro  200.0       1500.0   \n",
       "1       2       06/08/2023        Super en soriana  200.0       1300.0   \n",
       "2       3       06/08/2023            Sushi con LA  115.0       1100.0   \n",
       "3       4       07/08/2023  Café Starbucks Capsula    5.0        985.0   \n",
       "4       5       07/08/2023  Pedido en linea Amazon  153.0        980.0   \n",
       "\n",
       "   Tiempo invertido  Tipo  Momento  No. de personas  Día de deposito  \\\n",
       "0               150     6        1                3                1   \n",
       "1                60     1        2                2                0   \n",
       "2                90     4        3                2                0   \n",
       "3                15     1        1                1                0   \n",
       "4                10     4        1                1                0   \n",
       "\n",
       "   Previsto 1 / Imprevisto 0  Unnamed: 11  Unnamed: 12  Unnamed: 13  \\\n",
       "0                          1          NaN          NaN          NaN   \n",
       "1                          1          NaN          NaN          NaN   \n",
       "2                          1          NaN          NaN          NaN   \n",
       "3                          1          NaN          NaN          NaN   \n",
       "4                          1          NaN          NaN          NaN   \n",
       "\n",
       "   Unnamed: 14  Unnamed: 15  \n",
       "0          NaN          NaN  \n",
       "1          NaN          NaN  \n",
       "2          NaN          NaN  \n",
       "3          NaN          NaN  \n",
       "4          NaN          NaN  "
      ]
     },
     "execution_count": 127,
     "metadata": {},
     "output_type": "execute_result"
    }
   ],
   "source": [
    "df.head()"
   ]
  },
  {
   "cell_type": "code",
   "execution_count": 128,
   "metadata": {},
   "outputs": [
    {
     "name": "stdout",
     "output_type": "stream",
     "text": [
      "0   2023-08-06\n",
      "1   2023-08-06\n",
      "2   2023-08-06\n",
      "3   2023-08-07\n",
      "4   2023-08-07\n",
      "Name: Fecha (dd/mm/aa), dtype: datetime64[ns]\n"
     ]
    }
   ],
   "source": [
    "dateTime = df['Fecha (dd/mm/aa)']\n",
    "dateTime = pd.to_datetime(dateTime, format='%d/%m/%Y', errors='coerce')\n",
    "print(dateTime.head())"
   ]
  },
  {
   "cell_type": "code",
   "execution_count": 129,
   "metadata": {},
   "outputs": [
    {
     "name": "stdout",
     "output_type": "stream",
     "text": [
      "100\n"
     ]
    }
   ],
   "source": [
    "dias = dateTime.dt.to_period('D').nunique()\n",
    "print(dias)"
   ]
  },
  {
   "cell_type": "markdown",
   "metadata": {},
   "source": [
    "Seleccionando los datos"
   ]
  },
  {
   "cell_type": "code",
   "execution_count": 130,
   "metadata": {},
   "outputs": [],
   "source": [
    "df = df.iloc[:,3:11]"
   ]
  },
  {
   "cell_type": "code",
   "execution_count": 131,
   "metadata": {},
   "outputs": [
    {
     "data": {
      "text/html": [
       "<div>\n",
       "<style scoped>\n",
       "    .dataframe tbody tr th:only-of-type {\n",
       "        vertical-align: middle;\n",
       "    }\n",
       "\n",
       "    .dataframe tbody tr th {\n",
       "        vertical-align: top;\n",
       "    }\n",
       "\n",
       "    .dataframe thead th {\n",
       "        text-align: right;\n",
       "    }\n",
       "</style>\n",
       "<table border=\"1\" class=\"dataframe\">\n",
       "  <thead>\n",
       "    <tr style=\"text-align: right;\">\n",
       "      <th></th>\n",
       "      <th>Costo</th>\n",
       "      <th>Presupuesto</th>\n",
       "      <th>Tiempo invertido</th>\n",
       "      <th>Tipo</th>\n",
       "      <th>Momento</th>\n",
       "      <th>No. de personas</th>\n",
       "      <th>Día de deposito</th>\n",
       "      <th>Previsto 1 / Imprevisto 0</th>\n",
       "    </tr>\n",
       "  </thead>\n",
       "  <tbody>\n",
       "    <tr>\n",
       "      <th>0</th>\n",
       "      <td>200.0</td>\n",
       "      <td>1500.0</td>\n",
       "      <td>150</td>\n",
       "      <td>6</td>\n",
       "      <td>1</td>\n",
       "      <td>3</td>\n",
       "      <td>1</td>\n",
       "      <td>1</td>\n",
       "    </tr>\n",
       "    <tr>\n",
       "      <th>1</th>\n",
       "      <td>200.0</td>\n",
       "      <td>1300.0</td>\n",
       "      <td>60</td>\n",
       "      <td>1</td>\n",
       "      <td>2</td>\n",
       "      <td>2</td>\n",
       "      <td>0</td>\n",
       "      <td>1</td>\n",
       "    </tr>\n",
       "    <tr>\n",
       "      <th>2</th>\n",
       "      <td>115.0</td>\n",
       "      <td>1100.0</td>\n",
       "      <td>90</td>\n",
       "      <td>4</td>\n",
       "      <td>3</td>\n",
       "      <td>2</td>\n",
       "      <td>0</td>\n",
       "      <td>1</td>\n",
       "    </tr>\n",
       "    <tr>\n",
       "      <th>3</th>\n",
       "      <td>5.0</td>\n",
       "      <td>985.0</td>\n",
       "      <td>15</td>\n",
       "      <td>1</td>\n",
       "      <td>1</td>\n",
       "      <td>1</td>\n",
       "      <td>0</td>\n",
       "      <td>1</td>\n",
       "    </tr>\n",
       "    <tr>\n",
       "      <th>4</th>\n",
       "      <td>153.0</td>\n",
       "      <td>980.0</td>\n",
       "      <td>10</td>\n",
       "      <td>4</td>\n",
       "      <td>1</td>\n",
       "      <td>1</td>\n",
       "      <td>0</td>\n",
       "      <td>1</td>\n",
       "    </tr>\n",
       "  </tbody>\n",
       "</table>\n",
       "</div>"
      ],
      "text/plain": [
       "   Costo  Presupuesto  Tiempo invertido  Tipo  Momento  No. de personas  \\\n",
       "0  200.0       1500.0               150     6        1                3   \n",
       "1  200.0       1300.0                60     1        2                2   \n",
       "2  115.0       1100.0                90     4        3                2   \n",
       "3    5.0        985.0                15     1        1                1   \n",
       "4  153.0        980.0                10     4        1                1   \n",
       "\n",
       "   Día de deposito  Previsto 1 / Imprevisto 0  \n",
       "0                1                          1  \n",
       "1                0                          1  \n",
       "2                0                          1  \n",
       "3                0                          1  \n",
       "4                0                          1  "
      ]
     },
     "execution_count": 131,
     "metadata": {},
     "output_type": "execute_result"
    }
   ],
   "source": [
    "df.head()"
   ]
  },
  {
   "cell_type": "code",
   "execution_count": 132,
   "metadata": {},
   "outputs": [
    {
     "name": "stdout",
     "output_type": "stream",
     "text": [
      "<class 'pandas.core.frame.DataFrame'>\n",
      "RangeIndex: 300 entries, 0 to 299\n",
      "Data columns (total 8 columns):\n",
      " #   Column                     Non-Null Count  Dtype  \n",
      "---  ------                     --------------  -----  \n",
      " 0   Costo                      300 non-null    float64\n",
      " 1   Presupuesto                300 non-null    float64\n",
      " 2   Tiempo invertido           300 non-null    int64  \n",
      " 3   Tipo                       300 non-null    int64  \n",
      " 4   Momento                    300 non-null    int64  \n",
      " 5   No. de personas            300 non-null    int64  \n",
      " 6   Día de deposito            300 non-null    int64  \n",
      " 7   Previsto 1 / Imprevisto 0  300 non-null    int64  \n",
      "dtypes: float64(2), int64(6)\n",
      "memory usage: 18.9 KB\n"
     ]
    }
   ],
   "source": [
    "df.info()"
   ]
  },
  {
   "cell_type": "markdown",
   "metadata": {},
   "source": [
    "Limpiando los datos"
   ]
  },
  {
   "cell_type": "code",
   "execution_count": 133,
   "metadata": {},
   "outputs": [
    {
     "data": {
      "text/plain": [
       "Costo                        0\n",
       "Presupuesto                  0\n",
       "Tiempo invertido             0\n",
       "Tipo                         0\n",
       "Momento                      0\n",
       "No. de personas              0\n",
       "Día de deposito              0\n",
       "Previsto 1 / Imprevisto 0    0\n",
       "dtype: int64"
      ]
     },
     "execution_count": 133,
     "metadata": {},
     "output_type": "execute_result"
    }
   ],
   "source": [
    "df.isnull().sum() "
   ]
  },
  {
   "cell_type": "code",
   "execution_count": 134,
   "metadata": {},
   "outputs": [],
   "source": [
    "df= df.dropna()"
   ]
  },
  {
   "cell_type": "code",
   "execution_count": 135,
   "metadata": {},
   "outputs": [
    {
     "data": {
      "text/plain": [
       "False"
      ]
     },
     "execution_count": 135,
     "metadata": {},
     "output_type": "execute_result"
    }
   ],
   "source": [
    "df.isnull().values.any()"
   ]
  },
  {
   "cell_type": "markdown",
   "metadata": {},
   "source": [
    "Analisis"
   ]
  },
  {
   "cell_type": "code",
   "execution_count": 136,
   "metadata": {},
   "outputs": [
    {
     "data": {
      "text/html": [
       "<div>\n",
       "<style scoped>\n",
       "    .dataframe tbody tr th:only-of-type {\n",
       "        vertical-align: middle;\n",
       "    }\n",
       "\n",
       "    .dataframe tbody tr th {\n",
       "        vertical-align: top;\n",
       "    }\n",
       "\n",
       "    .dataframe thead th {\n",
       "        text-align: right;\n",
       "    }\n",
       "</style>\n",
       "<table border=\"1\" class=\"dataframe\">\n",
       "  <thead>\n",
       "    <tr style=\"text-align: right;\">\n",
       "      <th></th>\n",
       "      <th>Costo</th>\n",
       "      <th>Presupuesto</th>\n",
       "      <th>Tiempo invertido</th>\n",
       "      <th>Tipo</th>\n",
       "      <th>Momento</th>\n",
       "      <th>No. de personas</th>\n",
       "      <th>Día de deposito</th>\n",
       "      <th>Previsto 1 / Imprevisto 0</th>\n",
       "    </tr>\n",
       "  </thead>\n",
       "  <tbody>\n",
       "    <tr>\n",
       "      <th>count</th>\n",
       "      <td>300.00000</td>\n",
       "      <td>300.000000</td>\n",
       "      <td>300.000000</td>\n",
       "      <td>300.000000</td>\n",
       "      <td>300.000000</td>\n",
       "      <td>300.000000</td>\n",
       "      <td>300.00000</td>\n",
       "      <td>300.00000</td>\n",
       "    </tr>\n",
       "    <tr>\n",
       "      <th>mean</th>\n",
       "      <td>112.47000</td>\n",
       "      <td>574.965000</td>\n",
       "      <td>49.180000</td>\n",
       "      <td>2.173333</td>\n",
       "      <td>1.966667</td>\n",
       "      <td>2.453333</td>\n",
       "      <td>0.09000</td>\n",
       "      <td>0.83000</td>\n",
       "    </tr>\n",
       "    <tr>\n",
       "      <th>std</th>\n",
       "      <td>206.04671</td>\n",
       "      <td>522.225465</td>\n",
       "      <td>46.947145</td>\n",
       "      <td>1.550689</td>\n",
       "      <td>0.833389</td>\n",
       "      <td>2.740961</td>\n",
       "      <td>0.28666</td>\n",
       "      <td>0.37626</td>\n",
       "    </tr>\n",
       "    <tr>\n",
       "      <th>min</th>\n",
       "      <td>5.00000</td>\n",
       "      <td>-551.500000</td>\n",
       "      <td>5.000000</td>\n",
       "      <td>1.000000</td>\n",
       "      <td>1.000000</td>\n",
       "      <td>1.000000</td>\n",
       "      <td>0.00000</td>\n",
       "      <td>0.00000</td>\n",
       "    </tr>\n",
       "    <tr>\n",
       "      <th>25%</th>\n",
       "      <td>13.00000</td>\n",
       "      <td>161.500000</td>\n",
       "      <td>15.000000</td>\n",
       "      <td>1.000000</td>\n",
       "      <td>1.000000</td>\n",
       "      <td>1.000000</td>\n",
       "      <td>0.00000</td>\n",
       "      <td>1.00000</td>\n",
       "    </tr>\n",
       "    <tr>\n",
       "      <th>50%</th>\n",
       "      <td>70.00000</td>\n",
       "      <td>586.250000</td>\n",
       "      <td>30.000000</td>\n",
       "      <td>1.000000</td>\n",
       "      <td>2.000000</td>\n",
       "      <td>1.500000</td>\n",
       "      <td>0.00000</td>\n",
       "      <td>1.00000</td>\n",
       "    </tr>\n",
       "    <tr>\n",
       "      <th>75%</th>\n",
       "      <td>137.75000</td>\n",
       "      <td>908.500000</td>\n",
       "      <td>60.000000</td>\n",
       "      <td>4.000000</td>\n",
       "      <td>3.000000</td>\n",
       "      <td>2.000000</td>\n",
       "      <td>0.00000</td>\n",
       "      <td>1.00000</td>\n",
       "    </tr>\n",
       "    <tr>\n",
       "      <th>max</th>\n",
       "      <td>2000.00000</td>\n",
       "      <td>2326.500000</td>\n",
       "      <td>402.000000</td>\n",
       "      <td>6.000000</td>\n",
       "      <td>3.000000</td>\n",
       "      <td>10.000000</td>\n",
       "      <td>1.00000</td>\n",
       "      <td>1.00000</td>\n",
       "    </tr>\n",
       "  </tbody>\n",
       "</table>\n",
       "</div>"
      ],
      "text/plain": [
       "            Costo  Presupuesto  Tiempo invertido        Tipo     Momento  \\\n",
       "count   300.00000   300.000000        300.000000  300.000000  300.000000   \n",
       "mean    112.47000   574.965000         49.180000    2.173333    1.966667   \n",
       "std     206.04671   522.225465         46.947145    1.550689    0.833389   \n",
       "min       5.00000  -551.500000          5.000000    1.000000    1.000000   \n",
       "25%      13.00000   161.500000         15.000000    1.000000    1.000000   \n",
       "50%      70.00000   586.250000         30.000000    1.000000    2.000000   \n",
       "75%     137.75000   908.500000         60.000000    4.000000    3.000000   \n",
       "max    2000.00000  2326.500000        402.000000    6.000000    3.000000   \n",
       "\n",
       "       No. de personas  Día de deposito  Previsto 1 / Imprevisto 0  \n",
       "count       300.000000        300.00000                  300.00000  \n",
       "mean          2.453333          0.09000                    0.83000  \n",
       "std           2.740961          0.28666                    0.37626  \n",
       "min           1.000000          0.00000                    0.00000  \n",
       "25%           1.000000          0.00000                    1.00000  \n",
       "50%           1.500000          0.00000                    1.00000  \n",
       "75%           2.000000          0.00000                    1.00000  \n",
       "max          10.000000          1.00000                    1.00000  "
      ]
     },
     "execution_count": 136,
     "metadata": {},
     "output_type": "execute_result"
    }
   ],
   "source": [
    "df.describe()"
   ]
  },
  {
   "cell_type": "code",
   "execution_count": 137,
   "metadata": {},
   "outputs": [
    {
     "data": {
      "text/plain": [
       "Costo                        137\n",
       "Presupuesto                  137\n",
       "Tiempo invertido             183\n",
       "Tipo                           0\n",
       "Momento                        2\n",
       "No. de personas                5\n",
       "Día de deposito                0\n",
       "Previsto 1 / Imprevisto 0      0\n",
       "dtype: int64"
      ]
     },
     "execution_count": 137,
     "metadata": {},
     "output_type": "execute_result"
    }
   ],
   "source": [
    "df.idxmax()"
   ]
  },
  {
   "cell_type": "code",
   "execution_count": 138,
   "metadata": {},
   "outputs": [
    {
     "data": {
      "text/plain": [
       "Costo                          3\n",
       "Presupuesto                  287\n",
       "Tiempo invertido              35\n",
       "Tipo                           1\n",
       "Momento                        0\n",
       "No. de personas                3\n",
       "Día de deposito                1\n",
       "Previsto 1 / Imprevisto 0      7\n",
       "dtype: int64"
      ]
     },
     "execution_count": 138,
     "metadata": {},
     "output_type": "execute_result"
    }
   ],
   "source": [
    "df.idxmin()"
   ]
  },
  {
   "cell_type": "code",
   "execution_count": 139,
   "metadata": {},
   "outputs": [
    {
     "data": {
      "text/plain": [
       "Tipo\n",
       "1    11616.0\n",
       "3     1847.0\n",
       "4    10278.0\n",
       "5     8000.0\n",
       "6     2000.0\n",
       "Name: Costo, dtype: float64"
      ]
     },
     "execution_count": 139,
     "metadata": {},
     "output_type": "execute_result"
    }
   ],
   "source": [
    "actividad = df.groupby('Tipo')['Costo'].sum()\n",
    "actividad.head()"
   ]
  },
  {
   "cell_type": "code",
   "execution_count": 140,
   "metadata": {},
   "outputs": [
    {
     "data": {
      "text/plain": [
       "33741.0"
      ]
     },
     "execution_count": 140,
     "metadata": {},
     "output_type": "execute_result"
    }
   ],
   "source": [
    "df['Costo'].sum()"
   ]
  },
  {
   "cell_type": "markdown",
   "metadata": {},
   "source": [
    "Preparando los datos"
   ]
  },
  {
   "cell_type": "code",
   "execution_count": 141,
   "metadata": {},
   "outputs": [
    {
     "data": {
      "text/plain": [
       "Index(['Costo', 'Presupuesto', 'Tiempo invertido', 'Tipo', 'Momento',\n",
       "       'No. de personas', 'Día de deposito', 'Previsto 1 / Imprevisto 0'],\n",
       "      dtype='object')"
      ]
     },
     "execution_count": 141,
     "metadata": {},
     "output_type": "execute_result"
    }
   ],
   "source": [
    "df.columns"
   ]
  },
  {
   "cell_type": "code",
   "execution_count": 142,
   "metadata": {},
   "outputs": [],
   "source": [
    "x = df[['Presupuesto', 'Tiempo invertido', 'Tipo', 'Momento', 'No. de personas', 'Día de deposito', 'Previsto 1 / Imprevisto 0']].values # variables independientes\n",
    "y = df['Costo'].values # variable dependiente"
   ]
  },
  {
   "cell_type": "code",
   "execution_count": 143,
   "metadata": {},
   "outputs": [],
   "source": [
    "from sklearn.model_selection import train_test_split"
   ]
  },
  {
   "cell_type": "code",
   "execution_count": 144,
   "metadata": {},
   "outputs": [],
   "source": [
    "x_train, x_test, y_train, y_test = train_test_split(x, y, test_size=0.2, random_state=0)"
   ]
  },
  {
   "cell_type": "code",
   "execution_count": 145,
   "metadata": {},
   "outputs": [
    {
     "data": {
      "text/plain": [
       "array([ 40. ,   5. ,   5. , 150. ,  75. ,   5. , 150. , 400. ,  69. ,\n",
       "        40. ,  89. ,   5.5, 500. ,  28. ,   5. ,  79. ,  13. ,  40. ,\n",
       "       200. , 650. ,  85. ,  50. , 500. , 250. ,   5. ,  95. ,  40. ,\n",
       "       156. ,  70. ,  85. ,  75. ,  30. , 200. , 800. ,   5. ,   5. ,\n",
       "        20. , 250. ,  83. ,  40. ,  45. ,  85. , 100. ,   5. ,  40. ,\n",
       "         5. ,   5. , 110. ,  25. ,  40. , 240. ,  20. , 150. ,   5. ,\n",
       "        40. ,  40. ,   5. ,  99. ,  71. ,   5. ])"
      ]
     },
     "execution_count": 145,
     "metadata": {},
     "output_type": "execute_result"
    }
   ],
   "source": [
    "y_test"
   ]
  },
  {
   "cell_type": "markdown",
   "metadata": {},
   "source": [
    "Modelando los datos"
   ]
  },
  {
   "cell_type": "code",
   "execution_count": 146,
   "metadata": {},
   "outputs": [],
   "source": [
    "from sklearn.linear_model import LinearRegression\n",
    "model_regression = LinearRegression()"
   ]
  },
  {
   "cell_type": "code",
   "execution_count": 147,
   "metadata": {},
   "outputs": [
    {
     "data": {
      "text/html": [
       "<style>#sk-container-id-4 {color: black;background-color: white;}#sk-container-id-4 pre{padding: 0;}#sk-container-id-4 div.sk-toggleable {background-color: white;}#sk-container-id-4 label.sk-toggleable__label {cursor: pointer;display: block;width: 100%;margin-bottom: 0;padding: 0.3em;box-sizing: border-box;text-align: center;}#sk-container-id-4 label.sk-toggleable__label-arrow:before {content: \"▸\";float: left;margin-right: 0.25em;color: #696969;}#sk-container-id-4 label.sk-toggleable__label-arrow:hover:before {color: black;}#sk-container-id-4 div.sk-estimator:hover label.sk-toggleable__label-arrow:before {color: black;}#sk-container-id-4 div.sk-toggleable__content {max-height: 0;max-width: 0;overflow: hidden;text-align: left;background-color: #f0f8ff;}#sk-container-id-4 div.sk-toggleable__content pre {margin: 0.2em;color: black;border-radius: 0.25em;background-color: #f0f8ff;}#sk-container-id-4 input.sk-toggleable__control:checked~div.sk-toggleable__content {max-height: 200px;max-width: 100%;overflow: auto;}#sk-container-id-4 input.sk-toggleable__control:checked~label.sk-toggleable__label-arrow:before {content: \"▾\";}#sk-container-id-4 div.sk-estimator input.sk-toggleable__control:checked~label.sk-toggleable__label {background-color: #d4ebff;}#sk-container-id-4 div.sk-label input.sk-toggleable__control:checked~label.sk-toggleable__label {background-color: #d4ebff;}#sk-container-id-4 input.sk-hidden--visually {border: 0;clip: rect(1px 1px 1px 1px);clip: rect(1px, 1px, 1px, 1px);height: 1px;margin: -1px;overflow: hidden;padding: 0;position: absolute;width: 1px;}#sk-container-id-4 div.sk-estimator {font-family: monospace;background-color: #f0f8ff;border: 1px dotted black;border-radius: 0.25em;box-sizing: border-box;margin-bottom: 0.5em;}#sk-container-id-4 div.sk-estimator:hover {background-color: #d4ebff;}#sk-container-id-4 div.sk-parallel-item::after {content: \"\";width: 100%;border-bottom: 1px solid gray;flex-grow: 1;}#sk-container-id-4 div.sk-label:hover label.sk-toggleable__label {background-color: #d4ebff;}#sk-container-id-4 div.sk-serial::before {content: \"\";position: absolute;border-left: 1px solid gray;box-sizing: border-box;top: 0;bottom: 0;left: 50%;z-index: 0;}#sk-container-id-4 div.sk-serial {display: flex;flex-direction: column;align-items: center;background-color: white;padding-right: 0.2em;padding-left: 0.2em;position: relative;}#sk-container-id-4 div.sk-item {position: relative;z-index: 1;}#sk-container-id-4 div.sk-parallel {display: flex;align-items: stretch;justify-content: center;background-color: white;position: relative;}#sk-container-id-4 div.sk-item::before, #sk-container-id-4 div.sk-parallel-item::before {content: \"\";position: absolute;border-left: 1px solid gray;box-sizing: border-box;top: 0;bottom: 0;left: 50%;z-index: -1;}#sk-container-id-4 div.sk-parallel-item {display: flex;flex-direction: column;z-index: 1;position: relative;background-color: white;}#sk-container-id-4 div.sk-parallel-item:first-child::after {align-self: flex-end;width: 50%;}#sk-container-id-4 div.sk-parallel-item:last-child::after {align-self: flex-start;width: 50%;}#sk-container-id-4 div.sk-parallel-item:only-child::after {width: 0;}#sk-container-id-4 div.sk-dashed-wrapped {border: 1px dashed gray;margin: 0 0.4em 0.5em 0.4em;box-sizing: border-box;padding-bottom: 0.4em;background-color: white;}#sk-container-id-4 div.sk-label label {font-family: monospace;font-weight: bold;display: inline-block;line-height: 1.2em;}#sk-container-id-4 div.sk-label-container {text-align: center;}#sk-container-id-4 div.sk-container {/* jupyter's `normalize.less` sets `[hidden] { display: none; }` but bootstrap.min.css set `[hidden] { display: none !important; }` so we also need the `!important` here to be able to override the default hidden behavior on the sphinx rendered scikit-learn.org. See: https://github.com/scikit-learn/scikit-learn/issues/21755 */display: inline-block !important;position: relative;}#sk-container-id-4 div.sk-text-repr-fallback {display: none;}</style><div id=\"sk-container-id-4\" class=\"sk-top-container\"><div class=\"sk-text-repr-fallback\"><pre>LinearRegression()</pre><b>In a Jupyter environment, please rerun this cell to show the HTML representation or trust the notebook. <br />On GitHub, the HTML representation is unable to render, please try loading this page with nbviewer.org.</b></div><div class=\"sk-container\" hidden><div class=\"sk-item\"><div class=\"sk-estimator sk-toggleable\"><input class=\"sk-toggleable__control sk-hidden--visually\" id=\"sk-estimator-id-4\" type=\"checkbox\" checked><label for=\"sk-estimator-id-4\" class=\"sk-toggleable__label sk-toggleable__label-arrow\">LinearRegression</label><div class=\"sk-toggleable__content\"><pre>LinearRegression()</pre></div></div></div></div></div>"
      ],
      "text/plain": [
       "LinearRegression()"
      ]
     },
     "execution_count": 147,
     "metadata": {},
     "output_type": "execute_result"
    }
   ],
   "source": [
    "model_regression.fit(x_train, y_train) # aprendizaje automático con base en nuestros datos"
   ]
  },
  {
   "cell_type": "code",
   "execution_count": 148,
   "metadata": {},
   "outputs": [],
   "source": [
    "x_labels = ['Presupuesto', 'Tiempo invertido', 'Tipo', 'Momento', 'No. de personas', 'Día de deposito', 'Previsto 1 / Imprevisto 0']\n",
    "c_label = ['Coeficientes']"
   ]
  },
  {
   "cell_type": "code",
   "execution_count": 149,
   "metadata": {},
   "outputs": [
    {
     "data": {
      "text/html": [
       "<div>\n",
       "<style scoped>\n",
       "    .dataframe tbody tr th:only-of-type {\n",
       "        vertical-align: middle;\n",
       "    }\n",
       "\n",
       "    .dataframe tbody tr th {\n",
       "        vertical-align: top;\n",
       "    }\n",
       "\n",
       "    .dataframe thead th {\n",
       "        text-align: right;\n",
       "    }\n",
       "</style>\n",
       "<table border=\"1\" class=\"dataframe\">\n",
       "  <thead>\n",
       "    <tr style=\"text-align: right;\">\n",
       "      <th></th>\n",
       "      <th>Coeficientes</th>\n",
       "    </tr>\n",
       "  </thead>\n",
       "  <tbody>\n",
       "    <tr>\n",
       "      <th>Presupuesto</th>\n",
       "      <td>0.076003</td>\n",
       "    </tr>\n",
       "    <tr>\n",
       "      <th>Tiempo invertido</th>\n",
       "      <td>0.193606</td>\n",
       "    </tr>\n",
       "    <tr>\n",
       "      <th>Tipo</th>\n",
       "      <td>29.491145</td>\n",
       "    </tr>\n",
       "    <tr>\n",
       "      <th>Momento</th>\n",
       "      <td>36.888468</td>\n",
       "    </tr>\n",
       "    <tr>\n",
       "      <th>No. de personas</th>\n",
       "      <td>-13.213339</td>\n",
       "    </tr>\n",
       "    <tr>\n",
       "      <th>Día de deposito</th>\n",
       "      <td>249.072766</td>\n",
       "    </tr>\n",
       "    <tr>\n",
       "      <th>Previsto 1 / Imprevisto 0</th>\n",
       "      <td>26.814694</td>\n",
       "    </tr>\n",
       "  </tbody>\n",
       "</table>\n",
       "</div>"
      ],
      "text/plain": [
       "                           Coeficientes\n",
       "Presupuesto                    0.076003\n",
       "Tiempo invertido               0.193606\n",
       "Tipo                          29.491145\n",
       "Momento                       36.888468\n",
       "No. de personas              -13.213339\n",
       "Día de deposito              249.072766\n",
       "Previsto 1 / Imprevisto 0     26.814694"
      ]
     },
     "execution_count": 149,
     "metadata": {},
     "output_type": "execute_result"
    }
   ],
   "source": [
    "coeff_df = pd.DataFrame(model_regression.coef_, x_labels, c_label)\n",
    "coeff_df"
   ]
  },
  {
   "cell_type": "code",
   "execution_count": 150,
   "metadata": {},
   "outputs": [],
   "source": [
    "y_pred = model_regression.predict(x_test) # realiza la predicción con el modelo generado"
   ]
  },
  {
   "cell_type": "code",
   "execution_count": 151,
   "metadata": {},
   "outputs": [
    {
     "data": {
      "text/html": [
       "<div>\n",
       "<style scoped>\n",
       "    .dataframe tbody tr th:only-of-type {\n",
       "        vertical-align: middle;\n",
       "    }\n",
       "\n",
       "    .dataframe tbody tr th {\n",
       "        vertical-align: top;\n",
       "    }\n",
       "\n",
       "    .dataframe thead th {\n",
       "        text-align: right;\n",
       "    }\n",
       "</style>\n",
       "<table border=\"1\" class=\"dataframe\">\n",
       "  <thead>\n",
       "    <tr style=\"text-align: right;\">\n",
       "      <th></th>\n",
       "      <th>Real</th>\n",
       "      <th>Predicción</th>\n",
       "      <th>Residual</th>\n",
       "    </tr>\n",
       "  </thead>\n",
       "  <tbody>\n",
       "    <tr>\n",
       "      <th>14</th>\n",
       "      <td>5.0</td>\n",
       "      <td>146.539974</td>\n",
       "      <td>-141.539974</td>\n",
       "    </tr>\n",
       "    <tr>\n",
       "      <th>35</th>\n",
       "      <td>5.0</td>\n",
       "      <td>56.270292</td>\n",
       "      <td>-51.270292</td>\n",
       "    </tr>\n",
       "    <tr>\n",
       "      <th>5</th>\n",
       "      <td>5.0</td>\n",
       "      <td>55.890274</td>\n",
       "      <td>-50.890274</td>\n",
       "    </tr>\n",
       "    <tr>\n",
       "      <th>46</th>\n",
       "      <td>5.0</td>\n",
       "      <td>38.333480</td>\n",
       "      <td>-33.333480</td>\n",
       "    </tr>\n",
       "    <tr>\n",
       "      <th>53</th>\n",
       "      <td>5.0</td>\n",
       "      <td>80.287379</td>\n",
       "      <td>-75.287379</td>\n",
       "    </tr>\n",
       "    <tr>\n",
       "      <th>2</th>\n",
       "      <td>5.0</td>\n",
       "      <td>26.932964</td>\n",
       "      <td>-21.932964</td>\n",
       "    </tr>\n",
       "    <tr>\n",
       "      <th>43</th>\n",
       "      <td>5.0</td>\n",
       "      <td>4.967970</td>\n",
       "      <td>0.032030</td>\n",
       "    </tr>\n",
       "    <tr>\n",
       "      <th>34</th>\n",
       "      <td>5.0</td>\n",
       "      <td>14.772413</td>\n",
       "      <td>-9.772413</td>\n",
       "    </tr>\n",
       "    <tr>\n",
       "      <th>59</th>\n",
       "      <td>5.0</td>\n",
       "      <td>49.049965</td>\n",
       "      <td>-44.049965</td>\n",
       "    </tr>\n",
       "    <tr>\n",
       "      <th>16</th>\n",
       "      <td>13.0</td>\n",
       "      <td>-5.155160</td>\n",
       "      <td>18.155160</td>\n",
       "    </tr>\n",
       "    <tr>\n",
       "      <th>48</th>\n",
       "      <td>25.0</td>\n",
       "      <td>88.743101</td>\n",
       "      <td>-63.743101</td>\n",
       "    </tr>\n",
       "    <tr>\n",
       "      <th>55</th>\n",
       "      <td>40.0</td>\n",
       "      <td>23.111237</td>\n",
       "      <td>16.888763</td>\n",
       "    </tr>\n",
       "    <tr>\n",
       "      <th>54</th>\n",
       "      <td>40.0</td>\n",
       "      <td>62.739452</td>\n",
       "      <td>-22.739452</td>\n",
       "    </tr>\n",
       "    <tr>\n",
       "      <th>49</th>\n",
       "      <td>40.0</td>\n",
       "      <td>75.553611</td>\n",
       "      <td>-35.553611</td>\n",
       "    </tr>\n",
       "    <tr>\n",
       "      <th>17</th>\n",
       "      <td>40.0</td>\n",
       "      <td>81.329872</td>\n",
       "      <td>-41.329872</td>\n",
       "    </tr>\n",
       "    <tr>\n",
       "      <th>26</th>\n",
       "      <td>40.0</td>\n",
       "      <td>17.638989</td>\n",
       "      <td>22.361011</td>\n",
       "    </tr>\n",
       "    <tr>\n",
       "      <th>9</th>\n",
       "      <td>40.0</td>\n",
       "      <td>95.998536</td>\n",
       "      <td>-55.998536</td>\n",
       "    </tr>\n",
       "    <tr>\n",
       "      <th>39</th>\n",
       "      <td>40.0</td>\n",
       "      <td>78.099726</td>\n",
       "      <td>-38.099726</td>\n",
       "    </tr>\n",
       "    <tr>\n",
       "      <th>40</th>\n",
       "      <td>45.0</td>\n",
       "      <td>130.877863</td>\n",
       "      <td>-85.877863</td>\n",
       "    </tr>\n",
       "    <tr>\n",
       "      <th>21</th>\n",
       "      <td>50.0</td>\n",
       "      <td>151.109359</td>\n",
       "      <td>-101.109359</td>\n",
       "    </tr>\n",
       "    <tr>\n",
       "      <th>8</th>\n",
       "      <td>69.0</td>\n",
       "      <td>155.274087</td>\n",
       "      <td>-86.274087</td>\n",
       "    </tr>\n",
       "    <tr>\n",
       "      <th>4</th>\n",
       "      <td>75.0</td>\n",
       "      <td>87.360519</td>\n",
       "      <td>-12.360519</td>\n",
       "    </tr>\n",
       "    <tr>\n",
       "      <th>38</th>\n",
       "      <td>83.0</td>\n",
       "      <td>45.751896</td>\n",
       "      <td>37.248104</td>\n",
       "    </tr>\n",
       "    <tr>\n",
       "      <th>29</th>\n",
       "      <td>85.0</td>\n",
       "      <td>73.395620</td>\n",
       "      <td>11.604380</td>\n",
       "    </tr>\n",
       "    <tr>\n",
       "      <th>25</th>\n",
       "      <td>95.0</td>\n",
       "      <td>504.791923</td>\n",
       "      <td>-409.791923</td>\n",
       "    </tr>\n",
       "    <tr>\n",
       "      <th>3</th>\n",
       "      <td>150.0</td>\n",
       "      <td>183.758104</td>\n",
       "      <td>-33.758104</td>\n",
       "    </tr>\n",
       "    <tr>\n",
       "      <th>27</th>\n",
       "      <td>156.0</td>\n",
       "      <td>50.139457</td>\n",
       "      <td>105.860543</td>\n",
       "    </tr>\n",
       "    <tr>\n",
       "      <th>22</th>\n",
       "      <td>500.0</td>\n",
       "      <td>178.436275</td>\n",
       "      <td>321.563725</td>\n",
       "    </tr>\n",
       "    <tr>\n",
       "      <th>12</th>\n",
       "      <td>500.0</td>\n",
       "      <td>544.912766</td>\n",
       "      <td>-44.912766</td>\n",
       "    </tr>\n",
       "    <tr>\n",
       "      <th>19</th>\n",
       "      <td>650.0</td>\n",
       "      <td>28.675665</td>\n",
       "      <td>621.324335</td>\n",
       "    </tr>\n",
       "  </tbody>\n",
       "</table>\n",
       "</div>"
      ],
      "text/plain": [
       "     Real  Predicción    Residual\n",
       "14    5.0  146.539974 -141.539974\n",
       "35    5.0   56.270292  -51.270292\n",
       "5     5.0   55.890274  -50.890274\n",
       "46    5.0   38.333480  -33.333480\n",
       "53    5.0   80.287379  -75.287379\n",
       "2     5.0   26.932964  -21.932964\n",
       "43    5.0    4.967970    0.032030\n",
       "34    5.0   14.772413   -9.772413\n",
       "59    5.0   49.049965  -44.049965\n",
       "16   13.0   -5.155160   18.155160\n",
       "48   25.0   88.743101  -63.743101\n",
       "55   40.0   23.111237   16.888763\n",
       "54   40.0   62.739452  -22.739452\n",
       "49   40.0   75.553611  -35.553611\n",
       "17   40.0   81.329872  -41.329872\n",
       "26   40.0   17.638989   22.361011\n",
       "9    40.0   95.998536  -55.998536\n",
       "39   40.0   78.099726  -38.099726\n",
       "40   45.0  130.877863  -85.877863\n",
       "21   50.0  151.109359 -101.109359\n",
       "8    69.0  155.274087  -86.274087\n",
       "4    75.0   87.360519  -12.360519\n",
       "38   83.0   45.751896   37.248104\n",
       "29   85.0   73.395620   11.604380\n",
       "25   95.0  504.791923 -409.791923\n",
       "3   150.0  183.758104  -33.758104\n",
       "27  156.0   50.139457  105.860543\n",
       "22  500.0  178.436275  321.563725\n",
       "12  500.0  544.912766  -44.912766\n",
       "19  650.0   28.675665  621.324335"
      ]
     },
     "execution_count": 151,
     "metadata": {},
     "output_type": "execute_result"
    }
   ],
   "source": [
    "residuals = pd.DataFrame({'Real': y_test, 'Predicción': y_pred, 'Residual': y_test - y_pred})\n",
    "residuals = residuals.sample(n = 30)\n",
    "residuals = residuals.sort_values(by='Real')\n",
    "residuals"
   ]
  },
  {
   "cell_type": "code",
   "execution_count": 152,
   "metadata": {},
   "outputs": [
    {
     "data": {
      "text/plain": [
       "0.34463400783061493"
      ]
     },
     "execution_count": 152,
     "metadata": {},
     "output_type": "execute_result"
    }
   ],
   "source": [
    "from sklearn.metrics import r2_score\n",
    "r2_score(y_test, y_pred)"
   ]
  },
  {
   "cell_type": "markdown",
   "metadata": {},
   "source": [
    "Visualización de los datos"
   ]
  },
  {
   "cell_type": "code",
   "execution_count": 123,
   "metadata": {},
   "outputs": [
    {
     "data": {
      "image/png": "[encoded data removed]",
      "text/plain": [
       "<Figure size 640x480 with 1 Axes>"
      ]
     },
     "metadata": {},
     "output_type": "display_data"
    }
   ],
   "source": [
    "import matplotlib.pyplot as plt # importamos la librería pyplot que nos permitirá graficar\n",
    "import numpy as np # importamos la librería numpy que nos permitirá crear un arreglo para la muestra de 30 datos\n",
    "\n",
    "# función mágica para desplegar el gráfico en nuestra libreta\n",
    "%matplotlib inline\n",
    "\n",
    "plt.scatter(np.arange(30), residuals['Real'], label = \"Real\")  # creamos el gráfico con la muestra de datos reales\n",
    "plt.scatter(np.arange(30), residuals['Predicción'], label = \"Predicción\")  # creamos el gráfico con la muestra de datos de predicción\n",
    "plt.title(\"Comparación de costos: Reales y Predicción\") # indicamos el título del gráfico\n",
    "plt.xlabel(\"30 observaciones de costos\") # indicamos la etiqueta del eje de las x\n",
    "plt.ylabel(\"Costos\") # indicamos la etiqueta del eje de las y\n",
    "plt.legend(loc='upper left') # indicamos la posición de la etiqueta de los datos\n",
    "plt.show() # desplegamos el gráfico"
   ]
  }
 ],
 "metadata": {
  "kernelspec": {
   "display_name": "Python 3",
   "language": "python",
   "name": "python3"
  },
  "language_info": {
   "codemirror_mode": {
    "name": "ipython",
    "version": 3
   },
   "file_extension": ".py",
   "mimetype": "text/x-python",
   "name": "python",
   "nbconvert_exporter": "python",
   "pygments_lexer": "ipython3",
   "version": "3.10.11"
  }
 },
 "nbformat": 4,
 "nbformat_minor": 2
}
