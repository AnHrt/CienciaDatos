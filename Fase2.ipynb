{
 "cells": [
  {
   "cell_type": "markdown",
   "metadata": {},
   "source": [
    "### María de los Angeles Arista Huerta\n",
    "\n",
    "*Actividad:* Fase 2 - Entendimiento del negocio"
   ]
  },
  {
   "cell_type": "markdown",
   "metadata": {},
   "source": [
    "###### Importamos la librería Pandas "
   ]
  },
  {
   "cell_type": "code",
   "execution_count": 2,
   "metadata": {},
   "outputs": [],
   "source": [
    "import pandas as pd "
   ]
  },
  {
   "cell_type": "markdown",
   "metadata": {},
   "source": [
    "###### Creamos la variable DataFrame para cargar los datos del archivo"
   ]
  },
  {
   "cell_type": "code",
   "execution_count": 3,
   "metadata": {},
   "outputs": [],
   "source": [
    "df = pd.read_csv(\"Datos.csv\")"
   ]
  },
  {
   "cell_type": "markdown",
   "metadata": {},
   "source": [
    "###### Visualización de los primeros 5 registros"
   ]
  },
  {
   "cell_type": "code",
   "execution_count": 4,
   "metadata": {},
   "outputs": [
    {
     "data": {
      "text/html": [
       "<div>\n",
       "<style scoped>\n",
       "    .dataframe tbody tr th:only-of-type {\n",
       "        vertical-align: middle;\n",
       "    }\n",
       "\n",
       "    .dataframe tbody tr th {\n",
       "        vertical-align: top;\n",
       "    }\n",
       "\n",
       "    .dataframe thead th {\n",
       "        text-align: right;\n",
       "    }\n",
       "</style>\n",
       "<table border=\"1\" class=\"dataframe\">\n",
       "  <thead>\n",
       "    <tr style=\"text-align: right;\">\n",
       "      <th></th>\n",
       "      <th>Número</th>\n",
       "      <th>Fecha (dd/mm/aa)</th>\n",
       "      <th>Nombre actividad</th>\n",
       "      <th>Costo</th>\n",
       "      <th>Presupuesto</th>\n",
       "      <th>Tiempo invertido</th>\n",
       "      <th>Tipo</th>\n",
       "      <th>Momento</th>\n",
       "      <th>No. de personas</th>\n",
       "      <th>Día de deposito</th>\n",
       "      <th>Previsto 1 / Imprevisto 0</th>\n",
       "    </tr>\n",
       "  </thead>\n",
       "  <tbody>\n",
       "    <tr>\n",
       "      <th>0</th>\n",
       "      <td>1</td>\n",
       "      <td>06/08/2023</td>\n",
       "      <td>Regreso a Queretaro</td>\n",
       "      <td>200.0</td>\n",
       "      <td>1500.0</td>\n",
       "      <td>150.0</td>\n",
       "      <td>6.0</td>\n",
       "      <td>1.0</td>\n",
       "      <td>3.0</td>\n",
       "      <td>1.0</td>\n",
       "      <td>1.0</td>\n",
       "    </tr>\n",
       "    <tr>\n",
       "      <th>1</th>\n",
       "      <td>2</td>\n",
       "      <td>06/08/2023</td>\n",
       "      <td>Super en soriana</td>\n",
       "      <td>200.0</td>\n",
       "      <td>1300.0</td>\n",
       "      <td>60.0</td>\n",
       "      <td>1.0</td>\n",
       "      <td>2.0</td>\n",
       "      <td>2.0</td>\n",
       "      <td>0.0</td>\n",
       "      <td>1.0</td>\n",
       "    </tr>\n",
       "    <tr>\n",
       "      <th>2</th>\n",
       "      <td>3</td>\n",
       "      <td>06/08/2023</td>\n",
       "      <td>Sushi con LA</td>\n",
       "      <td>115.0</td>\n",
       "      <td>1100.0</td>\n",
       "      <td>90.0</td>\n",
       "      <td>4.0</td>\n",
       "      <td>3.0</td>\n",
       "      <td>2.0</td>\n",
       "      <td>0.0</td>\n",
       "      <td>1.0</td>\n",
       "    </tr>\n",
       "    <tr>\n",
       "      <th>3</th>\n",
       "      <td>4</td>\n",
       "      <td>07/08/2023</td>\n",
       "      <td>Café Starbucks Capsula</td>\n",
       "      <td>5.0</td>\n",
       "      <td>985.0</td>\n",
       "      <td>15.0</td>\n",
       "      <td>1.0</td>\n",
       "      <td>1.0</td>\n",
       "      <td>1.0</td>\n",
       "      <td>0.0</td>\n",
       "      <td>1.0</td>\n",
       "    </tr>\n",
       "    <tr>\n",
       "      <th>4</th>\n",
       "      <td>5</td>\n",
       "      <td>07/08/2023</td>\n",
       "      <td>Pedido en linea Amazon</td>\n",
       "      <td>153.0</td>\n",
       "      <td>980.0</td>\n",
       "      <td>10.0</td>\n",
       "      <td>4.0</td>\n",
       "      <td>1.0</td>\n",
       "      <td>1.0</td>\n",
       "      <td>0.0</td>\n",
       "      <td>1.0</td>\n",
       "    </tr>\n",
       "  </tbody>\n",
       "</table>\n",
       "</div>"
      ],
      "text/plain": [
       "   Número Fecha (dd/mm/aa)        Nombre actividad  Costo  Presupuesto  \\\n",
       "0       1       06/08/2023     Regreso a Queretaro  200.0       1500.0   \n",
       "1       2       06/08/2023        Super en soriana  200.0       1300.0   \n",
       "2       3       06/08/2023            Sushi con LA  115.0       1100.0   \n",
       "3       4       07/08/2023  Café Starbucks Capsula    5.0        985.0   \n",
       "4       5       07/08/2023  Pedido en linea Amazon  153.0        980.0   \n",
       "\n",
       "   Tiempo invertido  Tipo  Momento  No. de personas  Día de deposito  \\\n",
       "0             150.0   6.0      1.0              3.0              1.0   \n",
       "1              60.0   1.0      2.0              2.0              0.0   \n",
       "2              90.0   4.0      3.0              2.0              0.0   \n",
       "3              15.0   1.0      1.0              1.0              0.0   \n",
       "4              10.0   4.0      1.0              1.0              0.0   \n",
       "\n",
       "   Previsto 1 / Imprevisto 0  \n",
       "0                        1.0  \n",
       "1                        1.0  \n",
       "2                        1.0  \n",
       "3                        1.0  \n",
       "4                        1.0  "
      ]
     },
     "execution_count": 4,
     "metadata": {},
     "output_type": "execute_result"
    }
   ],
   "source": [
    "df.head()"
   ]
  },
  {
   "cell_type": "markdown",
   "metadata": {},
   "source": [
    "###### Para conocer las dimensiones de nuestro DataFrame"
   ]
  },
  {
   "cell_type": "code",
   "execution_count": 5,
   "metadata": {},
   "outputs": [
    {
     "data": {
      "text/plain": [
       "(300, 11)"
      ]
     },
     "execution_count": 5,
     "metadata": {},
     "output_type": "execute_result"
    }
   ],
   "source": [
    "df.shape"
   ]
  },
  {
   "cell_type": "markdown",
   "metadata": {},
   "source": [
    "###### Desplegar los nombres de las columnas o atributos de nuestros datos"
   ]
  },
  {
   "cell_type": "code",
   "execution_count": 6,
   "metadata": {},
   "outputs": [
    {
     "data": {
      "text/plain": [
       "Index(['Número', 'Fecha (dd/mm/aa)', 'Nombre actividad', 'Costo',\n",
       "       'Presupuesto', 'Tiempo invertido', 'Tipo', 'Momento', 'No. de personas',\n",
       "       'Día de deposito', 'Previsto 1 / Imprevisto 0'],\n",
       "      dtype='object')"
      ]
     },
     "execution_count": 6,
     "metadata": {},
     "output_type": "execute_result"
    }
   ],
   "source": [
    "df.columns"
   ]
  },
  {
   "cell_type": "markdown",
   "metadata": {},
   "source": [
    "###### Conocer los tipos de datos que conforman el DataFrame\n",
    "\n",
    "###### Los principales tipos de datos son:\n",
    "\n",
    "###### - object: cadena de texto\n",
    "###### - int64 : número entero\n",
    "###### - float64: número con decimal"
   ]
  },
  {
   "cell_type": "code",
   "execution_count": 7,
   "metadata": {},
   "outputs": [
    {
     "data": {
      "text/plain": [
       "Número                         int64\n",
       "Fecha (dd/mm/aa)              object\n",
       "Nombre actividad              object\n",
       "Costo                        float64\n",
       "Presupuesto                  float64\n",
       "Tiempo invertido             float64\n",
       "Tipo                         float64\n",
       "Momento                      float64\n",
       "No. de personas              float64\n",
       "Día de deposito              float64\n",
       "Previsto 1 / Imprevisto 0    float64\n",
       "dtype: object"
      ]
     },
     "execution_count": 7,
     "metadata": {},
     "output_type": "execute_result"
    }
   ],
   "source": [
    "df.dtypes"
   ]
  },
  {
   "cell_type": "markdown",
   "metadata": {},
   "source": [
    "###### Desplegar información completa de los datos del dataframe"
   ]
  },
  {
   "cell_type": "code",
   "execution_count": 8,
   "metadata": {},
   "outputs": [
    {
     "name": "stdout",
     "output_type": "stream",
     "text": [
      "<class 'pandas.core.frame.DataFrame'>\n",
      "RangeIndex: 300 entries, 0 to 299\n",
      "Data columns (total 11 columns):\n",
      " #   Column                     Non-Null Count  Dtype  \n",
      "---  ------                     --------------  -----  \n",
      " 0   Número                     300 non-null    int64  \n",
      " 1   Fecha (dd/mm/aa)           190 non-null    object \n",
      " 2   Nombre actividad           190 non-null    object \n",
      " 3   Costo                      188 non-null    float64\n",
      " 4   Presupuesto                190 non-null    float64\n",
      " 5   Tiempo invertido           190 non-null    float64\n",
      " 6   Tipo                       190 non-null    float64\n",
      " 7   Momento                    190 non-null    float64\n",
      " 8   No. de personas            190 non-null    float64\n",
      " 9   Día de deposito            190 non-null    float64\n",
      " 10  Previsto 1 / Imprevisto 0  190 non-null    float64\n",
      "dtypes: float64(8), int64(1), object(2)\n",
      "memory usage: 25.9+ KB\n"
     ]
    }
   ],
   "source": [
    "df.info()"
   ]
  },
  {
   "cell_type": "markdown",
   "metadata": {},
   "source": [
    "---\n",
    "\n",
    "Empleando metricas"
   ]
  },
  {
   "cell_type": "markdown",
   "metadata": {},
   "source": [
    "###### Usamos la función sum( ) en la columna Costo, para conocer el total del monto gastado"
   ]
  },
  {
   "cell_type": "code",
   "execution_count": 9,
   "metadata": {},
   "outputs": [
    {
     "data": {
      "text/plain": [
       "20453.5"
      ]
     },
     "execution_count": 9,
     "metadata": {},
     "output_type": "execute_result"
    }
   ],
   "source": [
    "df[\"Costo\"].sum()"
   ]
  },
  {
   "cell_type": "markdown",
   "metadata": {},
   "source": [
    "###### Calculamos el total de tiempo invertido con la función sum( )"
   ]
  },
  {
   "cell_type": "code",
   "execution_count": 10,
   "metadata": {},
   "outputs": [
    {
     "data": {
      "text/plain": [
       "9287.0"
      ]
     },
     "execution_count": 10,
     "metadata": {},
     "output_type": "execute_result"
    }
   ],
   "source": [
    "df[\"Tiempo invertido\"].sum()"
   ]
  },
  {
   "cell_type": "markdown",
   "metadata": {},
   "source": [
    "###### Obtenemos la frecuencia de repetición de las actividades con la función value_counts( )"
   ]
  },
  {
   "cell_type": "code",
   "execution_count": 11,
   "metadata": {},
   "outputs": [
    {
     "data": {
      "text/plain": [
       "Café Starbucks Capsula      32\n",
       "Arbitraje                   18\n",
       "Café Dolce Gusto Capsula    13\n",
       "Galletas de maquina         11\n",
       "Sushi con LA                10\n",
       "                            ..\n",
       "Starbucks con LA             1\n",
       "Sushi                        1\n",
       "Cajas de capsulas            1\n",
       "Super Semana 5               1\n",
       "Super semana 10              1\n",
       "Name: Nombre actividad, Length: 72, dtype: int64"
      ]
     },
     "execution_count": 11,
     "metadata": {},
     "output_type": "execute_result"
    }
   ],
   "source": [
    "df[\"Nombre actividad\"].value_counts()"
   ]
  },
  {
   "cell_type": "markdown",
   "metadata": {},
   "source": [
    "###### Vemos el conteo de actividades con base en su Momento con la función value_counts( )\n",
    "\n",
    "###### etiquetas de los Momentos:\n",
    "\n",
    "###### 1. Mañana\n",
    "###### 2. Tarde\n",
    "###### 3. Noche"
   ]
  },
  {
   "cell_type": "code",
   "execution_count": 12,
   "metadata": {},
   "outputs": [
    {
     "data": {
      "text/plain": [
       "1.0    68\n",
       "3.0    65\n",
       "2.0    57\n",
       "Name: Momento, dtype: int64"
      ]
     },
     "execution_count": 12,
     "metadata": {},
     "output_type": "execute_result"
    }
   ],
   "source": [
    "df[\"Momento\"].value_counts()"
   ]
  },
  {
   "cell_type": "markdown",
   "metadata": {},
   "source": [
    "###### conteo de personas involucradas en las actividades con la función value_counts( )"
   ]
  },
  {
   "cell_type": "code",
   "execution_count": 13,
   "metadata": {},
   "outputs": [
    {
     "data": {
      "text/plain": [
       "1.0     89\n",
       "2.0     71\n",
       "10.0    22\n",
       "3.0      6\n",
       "5.0      2\n",
       "Name: No. de personas, dtype: int64"
      ]
     },
     "execution_count": 13,
     "metadata": {},
     "output_type": "execute_result"
    }
   ],
   "source": [
    "df[\"No. de personas\"].value_counts()"
   ]
  },
  {
   "cell_type": "markdown",
   "metadata": {},
   "source": [
    "###### Usamos la propiedad loc y la función idxmax( ) para obtener la información del costo más máximo o gasto más grande realizado"
   ]
  },
  {
   "cell_type": "code",
   "execution_count": 14,
   "metadata": {},
   "outputs": [
    {
     "data": {
      "text/plain": [
       "Número                                        138\n",
       "Fecha (dd/mm/aa)                       21/09/2023\n",
       "Nombre actividad             Gastos de graduación\n",
       "Costo                                      2000.0\n",
       "Presupuesto                                3076.5\n",
       "Tiempo invertido                             10.0\n",
       "Tipo                                          5.0\n",
       "Momento                                       2.0\n",
       "No. de personas                               1.0\n",
       "Día de deposito                               1.0\n",
       "Previsto 1 / Imprevisto 0                     1.0\n",
       "Name: 137, dtype: object"
      ]
     },
     "execution_count": 14,
     "metadata": {},
     "output_type": "execute_result"
    }
   ],
   "source": [
    "df.loc[df[\"Costo\"].idxmax()]"
   ]
  },
  {
   "cell_type": "markdown",
   "metadata": {},
   "source": [
    "###### Con la función groupby( ) y la función sum( ) obtenemos los totales por Tipo de actividad\n",
    "\n",
    "###### etiquetas de los Tipos:\n",
    "\n",
    "###### 1. Alimentos/Salud\n",
    "###### 2. Ahorro/Inversión\n",
    "###### 3. Ejercicio/Deporte\n",
    "###### 4. Entretenimiento/Ocio\n",
    "###### 5. Académico\n",
    "###### 6. Transporte"
   ]
  },
  {
   "cell_type": "code",
   "execution_count": 15,
   "metadata": {},
   "outputs": [
    {
     "data": {
      "text/html": [
       "<div>\n",
       "<style scoped>\n",
       "    .dataframe tbody tr th:only-of-type {\n",
       "        vertical-align: middle;\n",
       "    }\n",
       "\n",
       "    .dataframe tbody tr th {\n",
       "        vertical-align: top;\n",
       "    }\n",
       "\n",
       "    .dataframe thead th {\n",
       "        text-align: right;\n",
       "    }\n",
       "</style>\n",
       "<table border=\"1\" class=\"dataframe\">\n",
       "  <thead>\n",
       "    <tr style=\"text-align: right;\">\n",
       "      <th></th>\n",
       "      <th>Número</th>\n",
       "      <th>Costo</th>\n",
       "      <th>Presupuesto</th>\n",
       "      <th>Tiempo invertido</th>\n",
       "      <th>Momento</th>\n",
       "      <th>No. de personas</th>\n",
       "      <th>Día de deposito</th>\n",
       "      <th>Previsto 1 / Imprevisto 0</th>\n",
       "    </tr>\n",
       "    <tr>\n",
       "      <th>Tipo</th>\n",
       "      <th></th>\n",
       "      <th></th>\n",
       "      <th></th>\n",
       "      <th></th>\n",
       "      <th></th>\n",
       "      <th></th>\n",
       "      <th></th>\n",
       "      <th></th>\n",
       "    </tr>\n",
       "  </thead>\n",
       "  <tbody>\n",
       "    <tr>\n",
       "      <th>1.0</th>\n",
       "      <td>10837</td>\n",
       "      <td>6700.5</td>\n",
       "      <td>108674.0</td>\n",
       "      <td>3485.0</td>\n",
       "      <td>202.0</td>\n",
       "      <td>161.0</td>\n",
       "      <td>5.0</td>\n",
       "      <td>90.0</td>\n",
       "    </tr>\n",
       "    <tr>\n",
       "      <th>3.0</th>\n",
       "      <td>2434</td>\n",
       "      <td>1467.0</td>\n",
       "      <td>23491.5</td>\n",
       "      <td>1660.0</td>\n",
       "      <td>70.0</td>\n",
       "      <td>227.0</td>\n",
       "      <td>1.0</td>\n",
       "      <td>26.0</td>\n",
       "    </tr>\n",
       "    <tr>\n",
       "      <th>4.0</th>\n",
       "      <td>3553</td>\n",
       "      <td>6786.0</td>\n",
       "      <td>41227.5</td>\n",
       "      <td>3332.0</td>\n",
       "      <td>87.0</td>\n",
       "      <td>71.0</td>\n",
       "      <td>3.0</td>\n",
       "      <td>32.0</td>\n",
       "    </tr>\n",
       "    <tr>\n",
       "      <th>5.0</th>\n",
       "      <td>645</td>\n",
       "      <td>4200.0</td>\n",
       "      <td>8289.5</td>\n",
       "      <td>200.0</td>\n",
       "      <td>9.0</td>\n",
       "      <td>11.0</td>\n",
       "      <td>3.0</td>\n",
       "      <td>5.0</td>\n",
       "    </tr>\n",
       "    <tr>\n",
       "      <th>6.0</th>\n",
       "      <td>676</td>\n",
       "      <td>1300.0</td>\n",
       "      <td>7398.5</td>\n",
       "      <td>610.0</td>\n",
       "      <td>9.0</td>\n",
       "      <td>9.0</td>\n",
       "      <td>2.0</td>\n",
       "      <td>6.0</td>\n",
       "    </tr>\n",
       "  </tbody>\n",
       "</table>\n",
       "</div>"
      ],
      "text/plain": [
       "      Número   Costo  Presupuesto  Tiempo invertido  Momento  No. de personas  \\\n",
       "Tipo                                                                            \n",
       "1.0    10837  6700.5     108674.0            3485.0    202.0            161.0   \n",
       "3.0     2434  1467.0      23491.5            1660.0     70.0            227.0   \n",
       "4.0     3553  6786.0      41227.5            3332.0     87.0             71.0   \n",
       "5.0      645  4200.0       8289.5             200.0      9.0             11.0   \n",
       "6.0      676  1300.0       7398.5             610.0      9.0              9.0   \n",
       "\n",
       "      Día de deposito  Previsto 1 / Imprevisto 0  \n",
       "Tipo                                              \n",
       "1.0               5.0                       90.0  \n",
       "3.0               1.0                       26.0  \n",
       "4.0               3.0                       32.0  \n",
       "5.0               3.0                        5.0  \n",
       "6.0               2.0                        6.0  "
      ]
     },
     "execution_count": 15,
     "metadata": {},
     "output_type": "execute_result"
    }
   ],
   "source": [
    "df.groupby(\"Tipo\").sum()"
   ]
  },
  {
   "cell_type": "markdown",
   "metadata": {},
   "source": [
    "###### Usamos la función describe( ) para obtener la estadística descriptiva y completar la exploración de nuestros datos"
   ]
  },
  {
   "cell_type": "code",
   "execution_count": 16,
   "metadata": {},
   "outputs": [
    {
     "data": {
      "text/html": [
       "<div>\n",
       "<style scoped>\n",
       "    .dataframe tbody tr th:only-of-type {\n",
       "        vertical-align: middle;\n",
       "    }\n",
       "\n",
       "    .dataframe tbody tr th {\n",
       "        vertical-align: top;\n",
       "    }\n",
       "\n",
       "    .dataframe thead th {\n",
       "        text-align: right;\n",
       "    }\n",
       "</style>\n",
       "<table border=\"1\" class=\"dataframe\">\n",
       "  <thead>\n",
       "    <tr style=\"text-align: right;\">\n",
       "      <th></th>\n",
       "      <th>Número</th>\n",
       "      <th>Costo</th>\n",
       "      <th>Presupuesto</th>\n",
       "      <th>Tiempo invertido</th>\n",
       "      <th>Tipo</th>\n",
       "      <th>Momento</th>\n",
       "      <th>No. de personas</th>\n",
       "      <th>Día de deposito</th>\n",
       "      <th>Previsto 1 / Imprevisto 0</th>\n",
       "    </tr>\n",
       "  </thead>\n",
       "  <tbody>\n",
       "    <tr>\n",
       "      <th>count</th>\n",
       "      <td>300.000000</td>\n",
       "      <td>188.000000</td>\n",
       "      <td>190.000000</td>\n",
       "      <td>190.000000</td>\n",
       "      <td>190.000000</td>\n",
       "      <td>190.000000</td>\n",
       "      <td>190.000000</td>\n",
       "      <td>190.000000</td>\n",
       "      <td>190.000000</td>\n",
       "    </tr>\n",
       "    <tr>\n",
       "      <th>mean</th>\n",
       "      <td>150.500000</td>\n",
       "      <td>108.795213</td>\n",
       "      <td>995.163158</td>\n",
       "      <td>48.878947</td>\n",
       "      <td>2.136842</td>\n",
       "      <td>1.984211</td>\n",
       "      <td>2.521053</td>\n",
       "      <td>0.073684</td>\n",
       "      <td>0.836842</td>\n",
       "    </tr>\n",
       "    <tr>\n",
       "      <th>std</th>\n",
       "      <td>86.746758</td>\n",
       "      <td>199.509510</td>\n",
       "      <td>492.159911</td>\n",
       "      <td>44.611208</td>\n",
       "      <td>1.509129</td>\n",
       "      <td>0.838721</td>\n",
       "      <td>2.788313</td>\n",
       "      <td>0.261947</td>\n",
       "      <td>0.370486</td>\n",
       "    </tr>\n",
       "    <tr>\n",
       "      <th>min</th>\n",
       "      <td>1.000000</td>\n",
       "      <td>5.000000</td>\n",
       "      <td>113.000000</td>\n",
       "      <td>5.000000</td>\n",
       "      <td>1.000000</td>\n",
       "      <td>1.000000</td>\n",
       "      <td>1.000000</td>\n",
       "      <td>0.000000</td>\n",
       "      <td>0.000000</td>\n",
       "    </tr>\n",
       "    <tr>\n",
       "      <th>25%</th>\n",
       "      <td>75.750000</td>\n",
       "      <td>13.000000</td>\n",
       "      <td>667.000000</td>\n",
       "      <td>15.000000</td>\n",
       "      <td>1.000000</td>\n",
       "      <td>1.000000</td>\n",
       "      <td>1.000000</td>\n",
       "      <td>0.000000</td>\n",
       "      <td>1.000000</td>\n",
       "    </tr>\n",
       "    <tr>\n",
       "      <th>50%</th>\n",
       "      <td>150.500000</td>\n",
       "      <td>60.000000</td>\n",
       "      <td>971.000000</td>\n",
       "      <td>35.000000</td>\n",
       "      <td>1.000000</td>\n",
       "      <td>2.000000</td>\n",
       "      <td>2.000000</td>\n",
       "      <td>0.000000</td>\n",
       "      <td>1.000000</td>\n",
       "    </tr>\n",
       "    <tr>\n",
       "      <th>75%</th>\n",
       "      <td>225.250000</td>\n",
       "      <td>116.250000</td>\n",
       "      <td>1294.000000</td>\n",
       "      <td>60.000000</td>\n",
       "      <td>4.000000</td>\n",
       "      <td>3.000000</td>\n",
       "      <td>2.000000</td>\n",
       "      <td>0.000000</td>\n",
       "      <td>1.000000</td>\n",
       "    </tr>\n",
       "    <tr>\n",
       "      <th>max</th>\n",
       "      <td>300.000000</td>\n",
       "      <td>2000.000000</td>\n",
       "      <td>3076.500000</td>\n",
       "      <td>402.000000</td>\n",
       "      <td>6.000000</td>\n",
       "      <td>3.000000</td>\n",
       "      <td>10.000000</td>\n",
       "      <td>1.000000</td>\n",
       "      <td>1.000000</td>\n",
       "    </tr>\n",
       "  </tbody>\n",
       "</table>\n",
       "</div>"
      ],
      "text/plain": [
       "           Número        Costo  Presupuesto  Tiempo invertido        Tipo  \\\n",
       "count  300.000000   188.000000   190.000000        190.000000  190.000000   \n",
       "mean   150.500000   108.795213   995.163158         48.878947    2.136842   \n",
       "std     86.746758   199.509510   492.159911         44.611208    1.509129   \n",
       "min      1.000000     5.000000   113.000000          5.000000    1.000000   \n",
       "25%     75.750000    13.000000   667.000000         15.000000    1.000000   \n",
       "50%    150.500000    60.000000   971.000000         35.000000    1.000000   \n",
       "75%    225.250000   116.250000  1294.000000         60.000000    4.000000   \n",
       "max    300.000000  2000.000000  3076.500000        402.000000    6.000000   \n",
       "\n",
       "          Momento  No. de personas  Día de deposito  Previsto 1 / Imprevisto 0  \n",
       "count  190.000000       190.000000       190.000000                 190.000000  \n",
       "mean     1.984211         2.521053         0.073684                   0.836842  \n",
       "std      0.838721         2.788313         0.261947                   0.370486  \n",
       "min      1.000000         1.000000         0.000000                   0.000000  \n",
       "25%      1.000000         1.000000         0.000000                   1.000000  \n",
       "50%      2.000000         2.000000         0.000000                   1.000000  \n",
       "75%      3.000000         2.000000         0.000000                   1.000000  \n",
       "max      3.000000        10.000000         1.000000                   1.000000  "
      ]
     },
     "execution_count": 16,
     "metadata": {},
     "output_type": "execute_result"
    }
   ],
   "source": [
    "df.describe()"
   ]
  }
 ],
 "metadata": {
  "kernelspec": {
   "display_name": "Python 3",
   "language": "python",
   "name": "python3"
  },
  "language_info": {
   "codemirror_mode": {
    "name": "ipython",
    "version": 3
   },
   "file_extension": ".py",
   "mimetype": "text/x-python",
   "name": "python",
   "nbconvert_exporter": "python",
   "pygments_lexer": "ipython3",
   "version": "3.10.11"
  }
 },
 "nbformat": 4,
 "nbformat_minor": 2
}
