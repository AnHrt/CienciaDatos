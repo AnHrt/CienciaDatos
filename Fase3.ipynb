{
 "cells": [
  {
   "cell_type": "markdown",
   "metadata": {},
   "source": [
    "### María de los Angeles Arista Huerta\n",
    "\n",
    "*Actividad:* Fase 2 - Entendimiento del negocio"
   ]
  },
  {
   "cell_type": "code",
   "execution_count": 1,
   "metadata": {},
   "outputs": [],
   "source": [
    "import pandas as pd "
   ]
  },
  {
   "cell_type": "code",
   "execution_count": 2,
   "metadata": {},
   "outputs": [],
   "source": [
    "df = pd.read_csv('Datos.csv')"
   ]
  },
  {
   "cell_type": "code",
   "execution_count": 3,
   "metadata": {},
   "outputs": [
    {
     "data": {
      "text/html": [
       "<div>\n",
       "<style scoped>\n",
       "    .dataframe tbody tr th:only-of-type {\n",
       "        vertical-align: middle;\n",
       "    }\n",
       "\n",
       "    .dataframe tbody tr th {\n",
       "        vertical-align: top;\n",
       "    }\n",
       "\n",
       "    .dataframe thead th {\n",
       "        text-align: right;\n",
       "    }\n",
       "</style>\n",
       "<table border=\"1\" class=\"dataframe\">\n",
       "  <thead>\n",
       "    <tr style=\"text-align: right;\">\n",
       "      <th></th>\n",
       "      <th>Número</th>\n",
       "      <th>Fecha (dd/mm/aa)</th>\n",
       "      <th>Nombre actividad</th>\n",
       "      <th>Costo</th>\n",
       "      <th>Presupuesto</th>\n",
       "      <th>Tiempo invertido</th>\n",
       "      <th>Tipo</th>\n",
       "      <th>Momento</th>\n",
       "      <th>No. de personas</th>\n",
       "      <th>Día de deposito</th>\n",
       "      <th>Previsto 1 / Imprevisto 0</th>\n",
       "    </tr>\n",
       "  </thead>\n",
       "  <tbody>\n",
       "    <tr>\n",
       "      <th>0</th>\n",
       "      <td>1</td>\n",
       "      <td>06/08/2023</td>\n",
       "      <td>Regreso a Queretaro</td>\n",
       "      <td>200.0</td>\n",
       "      <td>1500.0</td>\n",
       "      <td>150.0</td>\n",
       "      <td>6.0</td>\n",
       "      <td>1.0</td>\n",
       "      <td>3.0</td>\n",
       "      <td>1.0</td>\n",
       "      <td>1.0</td>\n",
       "    </tr>\n",
       "    <tr>\n",
       "      <th>1</th>\n",
       "      <td>2</td>\n",
       "      <td>06/08/2023</td>\n",
       "      <td>Super en soriana</td>\n",
       "      <td>200.0</td>\n",
       "      <td>1300.0</td>\n",
       "      <td>60.0</td>\n",
       "      <td>1.0</td>\n",
       "      <td>2.0</td>\n",
       "      <td>2.0</td>\n",
       "      <td>0.0</td>\n",
       "      <td>1.0</td>\n",
       "    </tr>\n",
       "    <tr>\n",
       "      <th>2</th>\n",
       "      <td>3</td>\n",
       "      <td>06/08/2023</td>\n",
       "      <td>Sushi con LA</td>\n",
       "      <td>115.0</td>\n",
       "      <td>1100.0</td>\n",
       "      <td>90.0</td>\n",
       "      <td>4.0</td>\n",
       "      <td>3.0</td>\n",
       "      <td>2.0</td>\n",
       "      <td>0.0</td>\n",
       "      <td>1.0</td>\n",
       "    </tr>\n",
       "    <tr>\n",
       "      <th>3</th>\n",
       "      <td>4</td>\n",
       "      <td>07/08/2023</td>\n",
       "      <td>Café Starbucks Capsula</td>\n",
       "      <td>5.0</td>\n",
       "      <td>985.0</td>\n",
       "      <td>15.0</td>\n",
       "      <td>1.0</td>\n",
       "      <td>1.0</td>\n",
       "      <td>1.0</td>\n",
       "      <td>0.0</td>\n",
       "      <td>1.0</td>\n",
       "    </tr>\n",
       "    <tr>\n",
       "      <th>4</th>\n",
       "      <td>5</td>\n",
       "      <td>07/08/2023</td>\n",
       "      <td>Pedido en linea Amazon</td>\n",
       "      <td>153.0</td>\n",
       "      <td>980.0</td>\n",
       "      <td>10.0</td>\n",
       "      <td>4.0</td>\n",
       "      <td>1.0</td>\n",
       "      <td>1.0</td>\n",
       "      <td>0.0</td>\n",
       "      <td>1.0</td>\n",
       "    </tr>\n",
       "  </tbody>\n",
       "</table>\n",
       "</div>"
      ],
      "text/plain": [
       "   Número Fecha (dd/mm/aa)        Nombre actividad  Costo  Presupuesto  \\\n",
       "0       1       06/08/2023     Regreso a Queretaro  200.0       1500.0   \n",
       "1       2       06/08/2023        Super en soriana  200.0       1300.0   \n",
       "2       3       06/08/2023            Sushi con LA  115.0       1100.0   \n",
       "3       4       07/08/2023  Café Starbucks Capsula    5.0        985.0   \n",
       "4       5       07/08/2023  Pedido en linea Amazon  153.0        980.0   \n",
       "\n",
       "   Tiempo invertido  Tipo  Momento  No. de personas  Día de deposito  \\\n",
       "0             150.0   6.0      1.0              3.0              1.0   \n",
       "1              60.0   1.0      2.0              2.0              0.0   \n",
       "2              90.0   4.0      3.0              2.0              0.0   \n",
       "3              15.0   1.0      1.0              1.0              0.0   \n",
       "4              10.0   4.0      1.0              1.0              0.0   \n",
       "\n",
       "   Previsto 1 / Imprevisto 0  \n",
       "0                        1.0  \n",
       "1                        1.0  \n",
       "2                        1.0  \n",
       "3                        1.0  \n",
       "4                        1.0  "
      ]
     },
     "execution_count": 3,
     "metadata": {},
     "output_type": "execute_result"
    }
   ],
   "source": [
    "df.head()"
   ]
  },
  {
   "cell_type": "code",
   "execution_count": 4,
   "metadata": {},
   "outputs": [],
   "source": [
    "df = df.iloc[:,3:9]"
   ]
  },
  {
   "cell_type": "code",
   "execution_count": 5,
   "metadata": {},
   "outputs": [
    {
     "data": {
      "text/html": [
       "<div>\n",
       "<style scoped>\n",
       "    .dataframe tbody tr th:only-of-type {\n",
       "        vertical-align: middle;\n",
       "    }\n",
       "\n",
       "    .dataframe tbody tr th {\n",
       "        vertical-align: top;\n",
       "    }\n",
       "\n",
       "    .dataframe thead th {\n",
       "        text-align: right;\n",
       "    }\n",
       "</style>\n",
       "<table border=\"1\" class=\"dataframe\">\n",
       "  <thead>\n",
       "    <tr style=\"text-align: right;\">\n",
       "      <th></th>\n",
       "      <th>Costo</th>\n",
       "      <th>Presupuesto</th>\n",
       "      <th>Tiempo invertido</th>\n",
       "      <th>Tipo</th>\n",
       "      <th>Momento</th>\n",
       "      <th>No. de personas</th>\n",
       "    </tr>\n",
       "  </thead>\n",
       "  <tbody>\n",
       "    <tr>\n",
       "      <th>0</th>\n",
       "      <td>200.0</td>\n",
       "      <td>1500.0</td>\n",
       "      <td>150.0</td>\n",
       "      <td>6.0</td>\n",
       "      <td>1.0</td>\n",
       "      <td>3.0</td>\n",
       "    </tr>\n",
       "    <tr>\n",
       "      <th>1</th>\n",
       "      <td>200.0</td>\n",
       "      <td>1300.0</td>\n",
       "      <td>60.0</td>\n",
       "      <td>1.0</td>\n",
       "      <td>2.0</td>\n",
       "      <td>2.0</td>\n",
       "    </tr>\n",
       "    <tr>\n",
       "      <th>2</th>\n",
       "      <td>115.0</td>\n",
       "      <td>1100.0</td>\n",
       "      <td>90.0</td>\n",
       "      <td>4.0</td>\n",
       "      <td>3.0</td>\n",
       "      <td>2.0</td>\n",
       "    </tr>\n",
       "    <tr>\n",
       "      <th>3</th>\n",
       "      <td>5.0</td>\n",
       "      <td>985.0</td>\n",
       "      <td>15.0</td>\n",
       "      <td>1.0</td>\n",
       "      <td>1.0</td>\n",
       "      <td>1.0</td>\n",
       "    </tr>\n",
       "    <tr>\n",
       "      <th>4</th>\n",
       "      <td>153.0</td>\n",
       "      <td>980.0</td>\n",
       "      <td>10.0</td>\n",
       "      <td>4.0</td>\n",
       "      <td>1.0</td>\n",
       "      <td>1.0</td>\n",
       "    </tr>\n",
       "  </tbody>\n",
       "</table>\n",
       "</div>"
      ],
      "text/plain": [
       "   Costo  Presupuesto  Tiempo invertido  Tipo  Momento  No. de personas\n",
       "0  200.0       1500.0             150.0   6.0      1.0              3.0\n",
       "1  200.0       1300.0              60.0   1.0      2.0              2.0\n",
       "2  115.0       1100.0              90.0   4.0      3.0              2.0\n",
       "3    5.0        985.0              15.0   1.0      1.0              1.0\n",
       "4  153.0        980.0              10.0   4.0      1.0              1.0"
      ]
     },
     "execution_count": 5,
     "metadata": {},
     "output_type": "execute_result"
    }
   ],
   "source": [
    "df.head()"
   ]
  },
  {
   "cell_type": "code",
   "execution_count": 6,
   "metadata": {},
   "outputs": [
    {
     "name": "stdout",
     "output_type": "stream",
     "text": [
      "<class 'pandas.core.frame.DataFrame'>\n",
      "RangeIndex: 300 entries, 0 to 299\n",
      "Data columns (total 6 columns):\n",
      " #   Column            Non-Null Count  Dtype  \n",
      "---  ------            --------------  -----  \n",
      " 0   Costo             188 non-null    float64\n",
      " 1   Presupuesto       190 non-null    float64\n",
      " 2   Tiempo invertido  190 non-null    float64\n",
      " 3   Tipo              190 non-null    float64\n",
      " 4   Momento           190 non-null    float64\n",
      " 5   No. de personas   190 non-null    float64\n",
      "dtypes: float64(6)\n",
      "memory usage: 14.2 KB\n"
     ]
    }
   ],
   "source": [
    "df.info()"
   ]
  },
  {
   "cell_type": "code",
   "execution_count": 7,
   "metadata": {},
   "outputs": [
    {
     "data": {
      "text/plain": [
       "Costo               112\n",
       "Presupuesto         110\n",
       "Tiempo invertido    110\n",
       "Tipo                110\n",
       "Momento             110\n",
       "No. de personas     110\n",
       "dtype: int64"
      ]
     },
     "execution_count": 7,
     "metadata": {},
     "output_type": "execute_result"
    }
   ],
   "source": [
    "df.isnull().sum() "
   ]
  },
  {
   "cell_type": "code",
   "execution_count": 8,
   "metadata": {},
   "outputs": [],
   "source": [
    "df= df.dropna()"
   ]
  },
  {
   "cell_type": "code",
   "execution_count": 9,
   "metadata": {},
   "outputs": [
    {
     "data": {
      "text/plain": [
       "False"
      ]
     },
     "execution_count": 9,
     "metadata": {},
     "output_type": "execute_result"
    }
   ],
   "source": [
    "df.isnull().values.any()"
   ]
  },
  {
   "cell_type": "code",
   "execution_count": 10,
   "metadata": {},
   "outputs": [
    {
     "data": {
      "text/plain": [
       "Index(['Costo', 'Presupuesto', 'Tiempo invertido', 'Tipo', 'Momento',\n",
       "       'No. de personas'],\n",
       "      dtype='object')"
      ]
     },
     "execution_count": 10,
     "metadata": {},
     "output_type": "execute_result"
    }
   ],
   "source": [
    "df.columns"
   ]
  },
  {
   "cell_type": "code",
   "execution_count": 11,
   "metadata": {},
   "outputs": [],
   "source": [
    "x = df[['Presupuesto', 'Tiempo invertido', 'Tipo', 'Momento', 'No. de personas']].values # variables independientes\n",
    "y = df['Costo'].values # variable dependiente"
   ]
  },
  {
   "cell_type": "code",
   "execution_count": 12,
   "metadata": {},
   "outputs": [],
   "source": [
    "from sklearn.model_selection import train_test_split"
   ]
  },
  {
   "cell_type": "code",
   "execution_count": 13,
   "metadata": {},
   "outputs": [],
   "source": [
    "x_train, x_test, y_train, y_test = train_test_split(x, y, test_size=0.2, random_state=0)"
   ]
  },
  {
   "cell_type": "code",
   "execution_count": 14,
   "metadata": {},
   "outputs": [
    {
     "data": {
      "text/plain": [
       "array([ 85.,  40., 250., 200., 800.,  80., 115.,  85., 200.,  25.,  40.,\n",
       "        95.,   5.,  13.,  40., 150., 250.,   5.,   5.,  79.,  40.,   5.,\n",
       "        75.,  51.,   5.,  70.,  18.,  40.,   5.,  89., 153., 500., 300.,\n",
       "        15.,  13.,  99.,  20., 150.])"
      ]
     },
     "execution_count": 14,
     "metadata": {},
     "output_type": "execute_result"
    }
   ],
   "source": [
    "y_test"
   ]
  }
 ],
 "metadata": {
  "kernelspec": {
   "display_name": "Python 3",
   "language": "python",
   "name": "python3"
  },
  "language_info": {
   "codemirror_mode": {
    "name": "ipython",
    "version": 3
   },
   "file_extension": ".py",
   "mimetype": "text/x-python",
   "name": "python",
   "nbconvert_exporter": "python",
   "pygments_lexer": "ipython3",
   "version": "3.10.11"
  }
 },
 "nbformat": 4,
 "nbformat_minor": 2
}
